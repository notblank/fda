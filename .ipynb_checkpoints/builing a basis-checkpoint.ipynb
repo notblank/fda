{
 "cells": [
  {
   "cell_type": "code",
   "execution_count": 1,
   "metadata": {},
   "outputs": [
    {
     "name": "stderr",
     "output_type": "stream",
     "text": [
      "Loading required package: splines\n",
      "Loading required package: Matrix\n",
      "\n",
      "Attaching package: 'fda'\n",
      "\n",
      "The following object is masked from 'package:graphics':\n",
      "\n",
      "    matplot\n",
      "\n",
      "Loading tidyverse: ggplot2\n",
      "Loading tidyverse: tibble\n",
      "Loading tidyverse: tidyr\n",
      "Loading tidyverse: readr\n",
      "Loading tidyverse: purrr\n",
      "Loading tidyverse: dplyr\n",
      "Conflicts with tidy packages ---------------------------------------------------\n",
      "expand(): tidyr, Matrix\n",
      "filter(): dplyr, stats\n",
      "lag():    dplyr, stats\n"
     ]
    }
   ],
   "source": [
    "library(fda)\n",
    "library(tidyverse)"
   ]
  },
  {
   "cell_type": "code",
   "execution_count": 2,
   "metadata": {
    "collapsed": true
   },
   "outputs": [],
   "source": [
    "#create.constant.basis(rangeval = c(0, 1))\n",
    "basisObj <- create.monomial.basis(rangeval = c(0, 1), 3)\n",
    "?create.basis"
   ]
  },
  {
   "cell_type": "code",
   "execution_count": 4,
   "metadata": {
    "collapsed": true
   },
   "outputs": [],
   "source": [
    "daybasis65 <- create.fourier.basis(c(0,365), nbasis = 65, dropind = 1)\n",
    "# does not contains the constant basis function. \n",
    "zerobasis <- create.fourier.basis(c(0,365), 65, dropind=1)"
   ]
  },
  {
   "cell_type": "code",
   "execution_count": 5,
   "metadata": {},
   "outputs": [
    {
     "data": {
      "image/png": "[encoded data removed]",
      "text/plain": [
       "plot without title"
      ]
     },
     "metadata": {},
     "output_type": "display_data"
    }
   ],
   "source": [
    "splinebasis = create.bspline.basis(c(0, 1), 5)\n",
    "plot(splinebasis)"
   ]
  },
  {
   "cell_type": "markdown",
   "metadata": {},
   "source": [
    "## Plotting the columns of a data.frame "
   ]
  },
  {
   "cell_type": "code",
   "execution_count": 6,
   "metadata": {},
   "outputs": [
    {
     "data": {
      "text/html": [
       "<table>\n",
       "<thead><tr><th scope=col>girl01</th><th scope=col>girl02</th><th scope=col>girl03</th><th scope=col>girl04</th><th scope=col>girl05</th><th scope=col>girl06</th><th scope=col>girl07</th><th scope=col>girl08</th><th scope=col>girl09</th><th scope=col>girl10</th><th scope=col>age</th></tr></thead>\n",
       "<tbody>\n",
       "\t<tr><td>76.2 </td><td>74.6 </td><td>78.2 </td><td>77.7 </td><td>76   </td><td>73.5 </td><td>67.4 </td><td> 80.5</td><td>77.0 </td><td>74.7 </td><td>1.00 </td></tr>\n",
       "\t<tr><td>80.4 </td><td>78.0 </td><td>81.8 </td><td>80.5 </td><td>80   </td><td>77.0 </td><td>72.3 </td><td> 85.1</td><td>80.7 </td><td>77.9 </td><td>1.25 </td></tr>\n",
       "\t<tr><td>83.3 </td><td>82.0 </td><td>85.4 </td><td>83.3 </td><td>83   </td><td>81.5 </td><td>75.9 </td><td> 89.7</td><td>83.4 </td><td>81.3 </td><td>1.50 </td></tr>\n",
       "\t<tr><td>85.7 </td><td>86.9 </td><td>87.9 </td><td>87.0 </td><td>86   </td><td>83.8 </td><td>79.4 </td><td> 93.7</td><td>85.6 </td><td>84.8 </td><td>1.75 </td></tr>\n",
       "\t<tr><td>87.7 </td><td>90.0 </td><td>89.6 </td><td>90.3 </td><td>89   </td><td>85.5 </td><td>82.2 </td><td> 97.3</td><td>88.9 </td><td>87.6 </td><td>2.00 </td></tr>\n",
       "\t<tr><td>96.0 </td><td>94.9 </td><td>97.1 </td><td>98.6 </td><td>96   </td><td>92.9 </td><td>91.6 </td><td>106.3</td><td>96.5 </td><td>98.6 </td><td>3.00 </td></tr>\n",
       "</tbody>\n",
       "</table>\n"
      ],
      "text/latex": [
       "\\begin{tabular}{r|lllllllllll}\n",
       " girl01 & girl02 & girl03 & girl04 & girl05 & girl06 & girl07 & girl08 & girl09 & girl10 & age\\\\\n",
       "\\hline\n",
       "\t 76.2  & 74.6  & 78.2  & 77.7  & 76    & 73.5  & 67.4  &  80.5 & 77.0  & 74.7  & 1.00 \\\\\n",
       "\t 80.4  & 78.0  & 81.8  & 80.5  & 80    & 77.0  & 72.3  &  85.1 & 80.7  & 77.9  & 1.25 \\\\\n",
       "\t 83.3  & 82.0  & 85.4  & 83.3  & 83    & 81.5  & 75.9  &  89.7 & 83.4  & 81.3  & 1.50 \\\\\n",
       "\t 85.7  & 86.9  & 87.9  & 87.0  & 86    & 83.8  & 79.4  &  93.7 & 85.6  & 84.8  & 1.75 \\\\\n",
       "\t 87.7  & 90.0  & 89.6  & 90.3  & 89    & 85.5  & 82.2  &  97.3 & 88.9  & 87.6  & 2.00 \\\\\n",
       "\t 96.0  & 94.9  & 97.1  & 98.6  & 96    & 92.9  & 91.6  & 106.3 & 96.5  & 98.6  & 3.00 \\\\\n",
       "\\end{tabular}\n"
      ],
      "text/markdown": [
       "\n",
       "girl01 | girl02 | girl03 | girl04 | girl05 | girl06 | girl07 | girl08 | girl09 | girl10 | age | \n",
       "|---|---|---|---|---|---|\n",
       "| 76.2  | 74.6  | 78.2  | 77.7  | 76    | 73.5  | 67.4  |  80.5 | 77.0  | 74.7  | 1.00  | \n",
       "| 80.4  | 78.0  | 81.8  | 80.5  | 80    | 77.0  | 72.3  |  85.1 | 80.7  | 77.9  | 1.25  | \n",
       "| 83.3  | 82.0  | 85.4  | 83.3  | 83    | 81.5  | 75.9  |  89.7 | 83.4  | 81.3  | 1.50  | \n",
       "| 85.7  | 86.9  | 87.9  | 87.0  | 86    | 83.8  | 79.4  |  93.7 | 85.6  | 84.8  | 1.75  | \n",
       "| 87.7  | 90.0  | 89.6  | 90.3  | 89    | 85.5  | 82.2  |  97.3 | 88.9  | 87.6  | 2.00  | \n",
       "| 96.0  | 94.9  | 97.1  | 98.6  | 96    | 92.9  | 91.6  | 106.3 | 96.5  | 98.6  | 3.00  | \n",
       "\n",
       "\n"
      ],
      "text/plain": [
       "  girl01 girl02 girl03 girl04 girl05 girl06 girl07 girl08 girl09 girl10 age \n",
       "1 76.2   74.6   78.2   77.7   76     73.5   67.4    80.5  77.0   74.7   1.00\n",
       "2 80.4   78.0   81.8   80.5   80     77.0   72.3    85.1  80.7   77.9   1.25\n",
       "3 83.3   82.0   85.4   83.3   83     81.5   75.9    89.7  83.4   81.3   1.50\n",
       "4 85.7   86.9   87.9   87.0   86     83.8   79.4    93.7  85.6   84.8   1.75\n",
       "5 87.7   90.0   89.6   90.3   89     85.5   82.2    97.3  88.9   87.6   2.00\n",
       "6 96.0   94.9   97.1   98.6   96     92.9   91.6   106.3  96.5   98.6   3.00"
      ]
     },
     "metadata": {},
     "output_type": "display_data"
    }
   ],
   "source": [
    "data(growth)\n",
    "growthGirls <- data.frame(growth$hgtf[, 1:10]) %>% mutate(age = growth$age)\n",
    "head(growthGirls)"
   ]
  },
  {
   "cell_type": "code",
   "execution_count": 7,
   "metadata": {},
   "outputs": [
    {
     "data": {
      "text/html": [
       "<table>\n",
       "<thead><tr><th scope=col>age</th><th scope=col>girl</th><th scope=col>height</th></tr></thead>\n",
       "<tbody>\n",
       "\t<tr><td>1.00  </td><td>girl01</td><td>76.2  </td></tr>\n",
       "\t<tr><td>1.25  </td><td>girl01</td><td>80.4  </td></tr>\n",
       "\t<tr><td>1.50  </td><td>girl01</td><td>83.3  </td></tr>\n",
       "\t<tr><td>1.75  </td><td>girl01</td><td>85.7  </td></tr>\n",
       "\t<tr><td>2.00  </td><td>girl01</td><td>87.7  </td></tr>\n",
       "\t<tr><td>3.00  </td><td>girl01</td><td>96.0  </td></tr>\n",
       "</tbody>\n",
       "</table>\n"
      ],
      "text/latex": [
       "\\begin{tabular}{r|lll}\n",
       " age & girl & height\\\\\n",
       "\\hline\n",
       "\t 1.00   & girl01 & 76.2  \\\\\n",
       "\t 1.25   & girl01 & 80.4  \\\\\n",
       "\t 1.50   & girl01 & 83.3  \\\\\n",
       "\t 1.75   & girl01 & 85.7  \\\\\n",
       "\t 2.00   & girl01 & 87.7  \\\\\n",
       "\t 3.00   & girl01 & 96.0  \\\\\n",
       "\\end{tabular}\n"
      ],
      "text/markdown": [
       "\n",
       "age | girl | height | \n",
       "|---|---|---|---|---|---|\n",
       "| 1.00   | girl01 | 76.2   | \n",
       "| 1.25   | girl01 | 80.4   | \n",
       "| 1.50   | girl01 | 83.3   | \n",
       "| 1.75   | girl01 | 85.7   | \n",
       "| 2.00   | girl01 | 87.7   | \n",
       "| 3.00   | girl01 | 96.0   | \n",
       "\n",
       "\n"
      ],
      "text/plain": [
       "  age  girl   height\n",
       "1 1.00 girl01 76.2  \n",
       "2 1.25 girl01 80.4  \n",
       "3 1.50 girl01 83.3  \n",
       "4 1.75 girl01 85.7  \n",
       "5 2.00 girl01 87.7  \n",
       "6 3.00 girl01 96.0  "
      ]
     },
     "metadata": {},
     "output_type": "display_data"
    }
   ],
   "source": [
    "GirlsPLot <- growthGirls %>% gather(key = age, value = height)\n",
    "names(GirlsPLot) <- c('age', 'girl', 'height')\n",
    "head(GirlsPLot)"
   ]
  },
  {
   "cell_type": "code",
   "execution_count": 8,
   "metadata": {},
   "outputs": [
    {
     "data": {},
     "metadata": {},
     "output_type": "display_data"
    },
    {
     "data": {
      "image/png": "[encoded data removed]",
      "text/plain": [
       "plot without title"
      ]
     },
     "metadata": {},
     "output_type": "display_data"
    }
   ],
   "source": [
    "ggplot(GirlsPLot, aes(age, height, color=girl)) + geom_point() + geom_line()"
   ]
  },
  {
   "cell_type": "markdown",
   "metadata": {},
   "source": [
    "# Chapter 3"
   ]
  },
  {
   "cell_type": "code",
   "execution_count": 9,
   "metadata": {},
   "outputs": [
    {
     "data": {
      "text/html": [
       "<ol class=list-inline>\n",
       "\t<li>100</li>\n",
       "\t<li>5</li>\n",
       "</ol>\n"
      ],
      "text/latex": [
       "\\begin{enumerate*}\n",
       "\\item 100\n",
       "\\item 5\n",
       "\\end{enumerate*}\n"
      ],
      "text/markdown": [
       "1. 100\n",
       "2. 5\n",
       "\n",
       "\n"
      ],
      "text/plain": [
       "[1] 100   5"
      ]
     },
     "metadata": {},
     "output_type": "display_data"
    },
    {
     "data": {
      "text/html": [
       "<ol class=list-inline>\n",
       "\t<li>100</li>\n",
       "\t<li>5</li>\n",
       "</ol>\n"
      ],
      "text/latex": [
       "\\begin{enumerate*}\n",
       "\\item 100\n",
       "\\item 5\n",
       "\\end{enumerate*}\n"
      ],
      "text/markdown": [
       "1. 100\n",
       "2. 5\n",
       "\n",
       "\n"
      ],
      "text/plain": [
       "[1] 100   5"
      ]
     },
     "metadata": {},
     "output_type": "display_data"
    },
    {
     "data": {
      "text/html": [
       "<ol class=list-inline>\n",
       "\t<li>100</li>\n",
       "\t<li>5</li>\n",
       "</ol>\n"
      ],
      "text/latex": [
       "\\begin{enumerate*}\n",
       "\\item 100\n",
       "\\item 5\n",
       "\\end{enumerate*}\n"
      ],
      "text/markdown": [
       "1. 100\n",
       "2. 5\n",
       "\n",
       "\n"
      ],
      "text/plain": [
       "[1] 100   5"
      ]
     },
     "metadata": {},
     "output_type": "display_data"
    }
   ],
   "source": [
    "t <- seq(0, 1, length.out = 100)\n",
    "bSplineMatrix <- eval.basis(t, splinebasis)\n",
    "D_bSplineMatrix <- eval.basis(t, splinebasis, 1)\n",
    "D2_bSplineMatrix <- eval.basis(t, splinebasis, 2)\n",
    "\n",
    "\n",
    "dim(bSplineMatrix)\n",
    "dim(D_bSplineMatrix)\n",
    "dim(D2_bSplineMatrix)"
   ]
  },
  {
   "cell_type": "code",
   "execution_count": 10,
   "metadata": {
    "collapsed": true
   },
   "outputs": [],
   "source": [
    "bSplineMatrix <- data.frame(bSplineMatrix) %>% mutate(t=t)\n",
    "D_bSplineMatrix <- data.frame(D_bSplineMatrix) %>% mutate(t=t)\n",
    "D2_bSplineMatrix <- data.frame(D2_bSplineMatrix) %>% mutate(t=t)"
   ]
  },
  {
   "cell_type": "code",
   "execution_count": 11,
   "metadata": {},
   "outputs": [
    {
     "ename": "ERROR",
     "evalue": "Error in eval(expr, envir, enclos): no se pudo encontrar la función \"multiplot\"\n",
     "output_type": "error",
     "traceback": [
      "Error in eval(expr, envir, enclos): no se pudo encontrar la función \"multiplot\"\nTraceback:\n"
     ]
    }
   ],
   "source": [
    "bS_Plot <- bSplineMatrix %>% gather(phi, y, -t)\n",
    "D_bS_Plot <- D_bSplineMatrix %>% gather(Dphi, y, -t)\n",
    "D2_bS_Plot <- D2_bSplineMatrix %>% gather(D2phi, y, -t)\n",
    "\n",
    "p <- ggplot(bS_Plot, aes(t, y, color=phi)) + geom_line()\n",
    "pD <- ggplot(D_bS_Plot, aes(t, y, color=Dphi)) + geom_line()\n",
    "pD2 <- ggplot(D2_bS_Plot, aes(t, y, color=D2phi)) + geom_line()\n",
    "\n",
    "multiplot(p, pD, pD2, cols=1)"
   ]
  },
  {
   "cell_type": "markdown",
   "metadata": {},
   "source": [
    "# Chapter 4\n",
    "\n",
    "$$ \\Large\n",
    "\\begin{bmatrix} x_1(t) \\\\ \\vdots \\\\ x_n(t) \\end{bmatrix} =\n",
    "\\begin{bmatrix} \n",
    "c_{11} & \\cdots & c_{1k} \\\\ \n",
    "\\vdots & \\ddots & \\vdots \\\\ \n",
    "c_{n1} & \\cdots & c_{nk} \n",
    "\\end{bmatrix}\n",
    "\\begin{bmatrix} \\phi_1(t) \\\\ \\vdots \\\\ \\phi_k(t) \\end{bmatrix}\n",
    "$$"
   ]
  },
  {
   "cell_type": "code",
   "execution_count": null,
   "metadata": {
    "collapsed": true
   },
   "outputs": [],
   "source": [
    "# one functional object built using the first 3 elements. \n",
    "tstFn0 <- fd(c(-1, 2, -2), create.bspline.basis(c(0,3), norder=2, nbasis = 3))\n",
    "plot(tstFn0)\n",
    "# evaluating a functional object\n",
    "points(1.2, eval.fd(1.2, tstFn0), col=\"red\", pch=19)"
   ]
  },
  {
   "cell_type": "code",
   "execution_count": null,
   "metadata": {
    "collapsed": true
   },
   "outputs": [],
   "source": [
    "t <- seq(0, 3, length.out = 1000)\n",
    "# evaluating the nth derivative functional object\n",
    "DtstFn0Vect <- eval.fd(evalarg = t, fdobj = tstFn0, Lfdobj = 1)\n",
    "DtstFn0 <- eval.fd(evalarg = 1.2, fdobj = tstFn0, Lfdobj = 1)\n",
    "plot(t, DtstFn0Vect, type ='l')\n",
    "points(1.2, DtstFn0, col=\"blue\", pch=19)"
   ]
  },
  {
   "cell_type": "markdown",
   "metadata": {},
   "source": [
    "## Functional Object and Coefficients "
   ]
  },
  {
   "cell_type": "code",
   "execution_count": null,
   "metadata": {
    "collapsed": true
   },
   "outputs": [],
   "source": [
    "basis13 <- create.bspline.basis(c(0,10), 13)\n",
    "# sinusiodal coefficients. \n",
    "tvec <- seq(0,1,len=13)\n",
    "sinecoef <- sin(2*pi*tvec)\n",
    "# functiona object with sin coefs. \n",
    "sinefd <- fd(sinecoef, basis13, list(\"t\",\"\",\"f(t)\"))"
   ]
  },
  {
   "cell_type": "code",
   "execution_count": null,
   "metadata": {
    "collapsed": true
   },
   "outputs": [],
   "source": [
    "# the functional object behaves as its coefficients. \n",
    "t <- seq(0, 10, length.out = 1000)\n",
    "y <- eval.fd(evalarg = t, fdobj = sinefd)\n",
    "\n",
    "plot(t, y, type=\"l\")\n",
    "title(\"Function and Coefs\")\n",
    "op = par(cex=1.2)\n",
    "points(10*tvec, sinecoef, pch=19)\n",
    "par(op)"
   ]
  },
  {
   "cell_type": "markdown",
   "metadata": {
    "collapsed": true
   },
   "source": [
    "## Smoothing data"
   ]
  },
  {
   "cell_type": "code",
   "execution_count": null,
   "metadata": {
    "collapsed": true
   },
   "outputs": [],
   "source": [
    "dailyTemp <- data.frame(daily$tempav)\n",
    "dim(dailyTemp)\n",
    "head(dailyTemp)"
   ]
  },
  {
   "cell_type": "code",
   "execution_count": null,
   "metadata": {
    "collapsed": true
   },
   "outputs": [],
   "source": [
    "index <- sample(1:35, 7)\n",
    "dailyTempSample <- dailyTemp %>% select(index) %>% slice(16:47) \n",
    "dailyTempP <- dailyTempSample %>% mutate(Day=16:47) %>% gather(City, Temp, -Day)\n",
    "\n",
    "ggplot(dailyTempP, aes(Day, Temp, color=City)) + geom_point() "
   ]
  },
  {
   "cell_type": "code",
   "execution_count": null,
   "metadata": {
    "collapsed": true
   },
   "outputs": [],
   "source": [
    "TempSB <- create.bspline.basis(c(16,48),7)\n",
    "TempSBMat <- eval.basis(evalarg = 16:47, basisobj = TempSB)\n",
    "head(TempSBMat)"
   ]
  },
  {
   "cell_type": "code",
   "execution_count": null,
   "metadata": {
    "collapsed": true
   },
   "outputs": [],
   "source": [
    "# Least Squares coeffs: (XX^T)^{-1}Xy\n",
    "TempBSCoefs = solve(crossprod(TempSBMat), crossprod(TempSBMat, as.matrix(dailyTempSample)))\n",
    "Temp <- fd(coef = TempBSCoefs, basisobj = TempSB)"
   ]
  },
  {
   "cell_type": "code",
   "execution_count": null,
   "metadata": {
    "collapsed": true
   },
   "outputs": [],
   "source": [
    "Dat <- dailyTempSample %>% mutate(Day = 16:47) %>% gather(City, Temp, -Day)\n",
    "Pred <- data.frame(eval.fd(evalarg = 16:47, fdobj = Temp)) %>% mutate(Day = 16:47) %>% gather(City, Temp, -Day)\n",
    "\n",
    "ggplot() + geom_point(data = Dat, aes(Day, Temp, color=City)) + geom_line(data = Pred, aes(Day, Temp, color=City))"
   ]
  },
  {
   "cell_type": "markdown",
   "metadata": {
    "collapsed": true
   },
   "source": [
    "## Differential Operator Object (Pending...)"
   ]
  },
  {
   "cell_type": "code",
   "execution_count": null,
   "metadata": {
    "collapsed": true
   },
   "outputs": [],
   "source": []
  },
  {
   "cell_type": "markdown",
   "metadata": {
    "collapsed": true
   },
   "source": [
    "# Chapter 5\n",
    "We use the observation model: \n",
    "\n",
    "$$\n",
    "\\Large y_j = x(t_j) + \\epsilon_j \n",
    "$$\n",
    "\n",
    "That in matrix form is: \n",
    "\n",
    "$$ \\Large\n",
    "\\begin{bmatrix} y_1 \\\\ \\vdots \\\\ y_n \\end{bmatrix} =\n",
    "\\begin{bmatrix} \n",
    "\\phi_1(t_1) & \\cdots & \\phi_k(t_1) \\\\ \n",
    "\\vdots & \\ddots & \\vdots \\\\ \n",
    "\\phi_1(t_n) & \\cdots & \\phi_k(t_n) \n",
    "\\end{bmatrix}\n",
    "\\begin{bmatrix} c_1 \\\\ \\vdots \\\\ c_k \\end{bmatrix} +\n",
    "\\begin{bmatrix} \\epsilon_1(t) \\\\ \\vdots \\\\ \\epsilon_n(t) \\end{bmatrix}\n",
    "$$\n",
    "\n",
    "Or:\n",
    "\n",
    "$$\n",
    "\\Large y = \\phi c + \\epsilon\n",
    "$$\n",
    "\n",
    "for short.\n",
    "\n",
    "The Coefficients are: \n",
    "\n",
    "$$\n",
    "\\Large \\hat{c} = \\left( \\phi^T \\phi \\right)^{-1} \\phi^T y\n",
    "$$"
   ]
  },
  {
   "cell_type": "code",
   "execution_count": 12,
   "metadata": {},
   "outputs": [
    {
     "data": {
      "text/html": [
       "<table>\n",
       "<thead><tr><th></th><th scope=col>girl01</th><th scope=col>girl02</th><th scope=col>girl03</th><th scope=col>girl04</th><th scope=col>girl05</th><th scope=col>girl06</th><th scope=col>girl07</th><th scope=col>girl08</th><th scope=col>girl09</th><th scope=col>girl10</th><th scope=col>...</th><th scope=col>girl45</th><th scope=col>girl46</th><th scope=col>girl47</th><th scope=col>girl48</th><th scope=col>girl49</th><th scope=col>girl50</th><th scope=col>girl51</th><th scope=col>girl52</th><th scope=col>girl53</th><th scope=col>girl54</th></tr></thead>\n",
       "<tbody>\n",
       "\t<tr><th scope=row>1</th><td>76.2 </td><td>74.6 </td><td>78.2 </td><td>77.7 </td><td>76   </td><td>73.5 </td><td>67.4 </td><td> 80.5</td><td>77.0 </td><td>74.7 </td><td>...  </td><td>74.8 </td><td>71.3 </td><td>73.0 </td><td>71.1 </td><td>74.6 </td><td>74.9 </td><td>77.6 </td><td>68.6 </td><td>79.9 </td><td>76.1 </td></tr>\n",
       "\t<tr><th scope=row>1.25</th><td>80.4 </td><td>78.0 </td><td>81.8 </td><td>80.5 </td><td>80   </td><td>77.0 </td><td>72.3 </td><td> 85.1</td><td>80.7 </td><td>77.9 </td><td>...  </td><td>78.0 </td><td>74.4 </td><td>75.0 </td><td>73.7 </td><td>78.0 </td><td>78.1 </td><td>81.1 </td><td>73.6 </td><td>82.6 </td><td>78.4 </td></tr>\n",
       "\t<tr><th scope=row>1.5</th><td>83.3 </td><td>82.0 </td><td>85.4 </td><td>83.3 </td><td>83   </td><td>81.5 </td><td>75.9 </td><td> 89.7</td><td>83.4 </td><td>81.3 </td><td>...  </td><td>81.6 </td><td>77.4 </td><td>77.6 </td><td>76.2 </td><td>81.0 </td><td>80.6 </td><td>84.0 </td><td>78.6 </td><td>84.8 </td><td>82.3 </td></tr>\n",
       "\t<tr><th scope=row>1.75</th><td>85.7 </td><td>86.9 </td><td>87.9 </td><td>87.0 </td><td>86   </td><td>83.8 </td><td>79.4 </td><td> 93.7</td><td>85.6 </td><td>84.8 </td><td>...  </td><td>84.2 </td><td>80.0 </td><td>81.7 </td><td>79.4 </td><td>83.6 </td><td>83.4 </td><td>87.2 </td><td>83.6 </td><td>88.6 </td><td>86.0 </td></tr>\n",
       "\t<tr><th scope=row>2</th><td>87.7 </td><td>90.0 </td><td>89.6 </td><td>90.3 </td><td>89   </td><td>85.5 </td><td>82.2 </td><td> 97.3</td><td>88.9 </td><td>87.6 </td><td>...  </td><td>86.4 </td><td>82.6 </td><td>86.4 </td><td>81.8 </td><td>86.2 </td><td>86.0 </td><td>91.4 </td><td>88.9 </td><td>94.0 </td><td>89.2 </td></tr>\n",
       "\t<tr><th scope=row>3</th><td>96.0 </td><td>94.9 </td><td>97.1 </td><td>98.6 </td><td>96   </td><td>92.9 </td><td>91.6 </td><td>106.3</td><td>96.5 </td><td>98.6 </td><td>...  </td><td>94.0 </td><td>91.6 </td><td>92.9 </td><td>91.4 </td><td>96.5 </td><td>96.5 </td><td>98.0 </td><td>96.8 </td><td>99.6 </td><td>98.2 </td></tr>\n",
       "</tbody>\n",
       "</table>\n"
      ],
      "text/latex": [
       "\\begin{tabular}{r|llllllllllllllllllllllllllllllllllllllllllllllllllllll}\n",
       "  & girl01 & girl02 & girl03 & girl04 & girl05 & girl06 & girl07 & girl08 & girl09 & girl10 & ... & girl45 & girl46 & girl47 & girl48 & girl49 & girl50 & girl51 & girl52 & girl53 & girl54\\\\\n",
       "\\hline\n",
       "\t1 & 76.2  & 74.6  & 78.2  & 77.7  & 76    & 73.5  & 67.4  &  80.5 & 77.0  & 74.7  & ...   & 74.8  & 71.3  & 73.0  & 71.1  & 74.6  & 74.9  & 77.6  & 68.6  & 79.9  & 76.1 \\\\\n",
       "\t1.25 & 80.4  & 78.0  & 81.8  & 80.5  & 80    & 77.0  & 72.3  &  85.1 & 80.7  & 77.9  & ...   & 78.0  & 74.4  & 75.0  & 73.7  & 78.0  & 78.1  & 81.1  & 73.6  & 82.6  & 78.4 \\\\\n",
       "\t1.5 & 83.3  & 82.0  & 85.4  & 83.3  & 83    & 81.5  & 75.9  &  89.7 & 83.4  & 81.3  & ...   & 81.6  & 77.4  & 77.6  & 76.2  & 81.0  & 80.6  & 84.0  & 78.6  & 84.8  & 82.3 \\\\\n",
       "\t1.75 & 85.7  & 86.9  & 87.9  & 87.0  & 86    & 83.8  & 79.4  &  93.7 & 85.6  & 84.8  & ...   & 84.2  & 80.0  & 81.7  & 79.4  & 83.6  & 83.4  & 87.2  & 83.6  & 88.6  & 86.0 \\\\\n",
       "\t2 & 87.7  & 90.0  & 89.6  & 90.3  & 89    & 85.5  & 82.2  &  97.3 & 88.9  & 87.6  & ...   & 86.4  & 82.6  & 86.4  & 81.8  & 86.2  & 86.0  & 91.4  & 88.9  & 94.0  & 89.2 \\\\\n",
       "\t3 & 96.0  & 94.9  & 97.1  & 98.6  & 96    & 92.9  & 91.6  & 106.3 & 96.5  & 98.6  & ...   & 94.0  & 91.6  & 92.9  & 91.4  & 96.5  & 96.5  & 98.0  & 96.8  & 99.6  & 98.2 \\\\\n",
       "\\end{tabular}\n"
      ],
      "text/markdown": [
       "\n",
       "| <!--/--> | girl01 | girl02 | girl03 | girl04 | girl05 | girl06 | girl07 | girl08 | girl09 | girl10 | ... | girl45 | girl46 | girl47 | girl48 | girl49 | girl50 | girl51 | girl52 | girl53 | girl54 | \n",
       "|---|---|---|---|---|---|\n",
       "| 1 | 76.2  | 74.6  | 78.2  | 77.7  | 76    | 73.5  | 67.4  |  80.5 | 77.0  | 74.7  | ...   | 74.8  | 71.3  | 73.0  | 71.1  | 74.6  | 74.9  | 77.6  | 68.6  | 79.9  | 76.1  | \n",
       "| 1.25 | 80.4  | 78.0  | 81.8  | 80.5  | 80    | 77.0  | 72.3  |  85.1 | 80.7  | 77.9  | ...   | 78.0  | 74.4  | 75.0  | 73.7  | 78.0  | 78.1  | 81.1  | 73.6  | 82.6  | 78.4  | \n",
       "| 1.5 | 83.3  | 82.0  | 85.4  | 83.3  | 83    | 81.5  | 75.9  |  89.7 | 83.4  | 81.3  | ...   | 81.6  | 77.4  | 77.6  | 76.2  | 81.0  | 80.6  | 84.0  | 78.6  | 84.8  | 82.3  | \n",
       "| 1.75 | 85.7  | 86.9  | 87.9  | 87.0  | 86    | 83.8  | 79.4  |  93.7 | 85.6  | 84.8  | ...   | 84.2  | 80.0  | 81.7  | 79.4  | 83.6  | 83.4  | 87.2  | 83.6  | 88.6  | 86.0  | \n",
       "| 2 | 87.7  | 90.0  | 89.6  | 90.3  | 89    | 85.5  | 82.2  |  97.3 | 88.9  | 87.6  | ...   | 86.4  | 82.6  | 86.4  | 81.8  | 86.2  | 86.0  | 91.4  | 88.9  | 94.0  | 89.2  | \n",
       "| 3 | 96.0  | 94.9  | 97.1  | 98.6  | 96    | 92.9  | 91.6  | 106.3 | 96.5  | 98.6  | ...   | 94.0  | 91.6  | 92.9  | 91.4  | 96.5  | 96.5  | 98.0  | 96.8  | 99.6  | 98.2  | \n",
       "\n",
       "\n"
      ],
      "text/plain": [
       "     girl01 girl02 girl03 girl04 girl05 girl06 girl07 girl08 girl09 girl10 ...\n",
       "1    76.2   74.6   78.2   77.7   76     73.5   67.4    80.5  77.0   74.7   ...\n",
       "1.25 80.4   78.0   81.8   80.5   80     77.0   72.3    85.1  80.7   77.9   ...\n",
       "1.5  83.3   82.0   85.4   83.3   83     81.5   75.9    89.7  83.4   81.3   ...\n",
       "1.75 85.7   86.9   87.9   87.0   86     83.8   79.4    93.7  85.6   84.8   ...\n",
       "2    87.7   90.0   89.6   90.3   89     85.5   82.2    97.3  88.9   87.6   ...\n",
       "3    96.0   94.9   97.1   98.6   96     92.9   91.6   106.3  96.5   98.6   ...\n",
       "     girl45 girl46 girl47 girl48 girl49 girl50 girl51 girl52 girl53 girl54\n",
       "1    74.8   71.3   73.0   71.1   74.6   74.9   77.6   68.6   79.9   76.1  \n",
       "1.25 78.0   74.4   75.0   73.7   78.0   78.1   81.1   73.6   82.6   78.4  \n",
       "1.5  81.6   77.4   77.6   76.2   81.0   80.6   84.0   78.6   84.8   82.3  \n",
       "1.75 84.2   80.0   81.7   79.4   83.6   83.4   87.2   83.6   88.6   86.0  \n",
       "2    86.4   82.6   86.4   81.8   86.2   86.0   91.4   88.9   94.0   89.2  \n",
       "3    94.0   91.6   92.9   91.4   96.5   96.5   98.0   96.8   99.6   98.2  "
      ]
     },
     "metadata": {},
     "output_type": "display_data"
    }
   ],
   "source": [
    "growthMatrix <- growth$hgtf\n",
    "head(growthMatrix)"
   ]
  },
  {
   "cell_type": "code",
   "execution_count": 13,
   "metadata": {
    "collapsed": true
   },
   "outputs": [],
   "source": [
    "# 12 b-spline basis functions of order 6 with range in [1, 18]:\n",
    "heightBasis_12 <- create.bspline.basis(rangeval = c(1, 18), nbasis = 12, norder = 6)"
   ]
  },
  {
   "cell_type": "code",
   "execution_count": 15,
   "metadata": {},
   "outputs": [
    {
     "data": {
      "text/html": [
       "'done'"
      ],
      "text/latex": [
       "'done'"
      ],
      "text/markdown": [
       "'done'"
      ],
      "text/plain": [
       "[1] \"done\""
      ]
     },
     "metadata": {},
     "output_type": "display_data"
    },
    {
     "data": {
      "image/png": "[encoded data removed]",
      "text/plain": [
       "plot without title"
      ]
     },
     "metadata": {},
     "output_type": "display_data"
    }
   ],
   "source": [
    "# compute the least squares solution\n",
    "age <- growth$age\n",
    "smoothGrowth <- smooth.basis(argvals = age, y = growthMatrix, heightBasis_12)\n",
    "\n",
    "# smoothing curves for each girl. \n",
    "plot(smoothGrowth$fd)"
   ]
  },
  {
   "cell_type": "markdown",
   "metadata": {},
   "source": [
    "## Plotting the smoothing predictions using ggplot2\n",
    "\n",
    "Matrix representation of coefficient matrix from the smooth.basis funtion.\n",
    "\n",
    "$$ \\Large\n",
    "\\begin{bmatrix} \\hat{y}_1 \\\\ \\vdots \\\\ \\hat{y}_n \\end{bmatrix} =\n",
    "\\begin{bmatrix} \n",
    "\\phi_1(t_1) & \\cdots & \\phi_k(t_1) \\\\ \n",
    "\\vdots & \\ddots & \\vdots \\\\ \n",
    "\\phi_1(t_n) & \\cdots & \\phi_k(t_n) \n",
    "\\end{bmatrix}\n",
    "\\begin{bmatrix} \n",
    "c_{11} & \\cdots & c_{1n} \\\\ \n",
    "\\vdots & \\ddots & \\vdots \\\\ \n",
    "c_{k1} & \\cdots & c_{kn} \n",
    "\\end{bmatrix}\n",
    "$$"
   ]
  },
  {
   "cell_type": "code",
   "execution_count": 18,
   "metadata": {},
   "outputs": [
    {
     "data": {
      "text/html": [
       "<table>\n",
       "<thead><tr><th></th><th scope=col>girl01</th><th scope=col>girl02</th><th scope=col>girl03</th><th scope=col>girl04</th><th scope=col>girl05</th><th scope=col>girl06</th><th scope=col>girl07</th><th scope=col>girl08</th><th scope=col>girl09</th><th scope=col>girl10</th><th scope=col>...</th><th scope=col>girl45</th><th scope=col>girl46</th><th scope=col>girl47</th><th scope=col>girl48</th><th scope=col>girl49</th><th scope=col>girl50</th><th scope=col>girl51</th><th scope=col>girl52</th><th scope=col>girl53</th><th scope=col>girl54</th></tr></thead>\n",
       "<tbody>\n",
       "\t<tr><th scope=row>bspl6.1</th><td> 76.31934</td><td> 73.95478</td><td> 77.90689</td><td> 77.47026</td><td> 75.88055</td><td> 73.24338</td><td> 67.47464</td><td> 80.33664</td><td> 77.07537</td><td> 74.69238</td><td>...      </td><td> 74.61202</td><td> 71.32233</td><td> 72.71142</td><td> 71.37941</td><td> 74.77540</td><td> 75.01708</td><td> 77.39230</td><td> 68.16003</td><td> 79.62849</td><td> 75.81031</td></tr>\n",
       "\t<tr><th scope=row>bspl6.2</th><td> 84.88827</td><td> 84.78101</td><td> 88.77767</td><td> 83.85694</td><td> 85.06788</td><td> 83.39973</td><td> 77.34082</td><td> 90.73938</td><td> 84.15664</td><td> 80.77743</td><td>...      </td><td> 82.91216</td><td> 77.51902</td><td> 76.40760</td><td> 73.30322</td><td> 80.39976</td><td> 80.51051</td><td> 85.34395</td><td> 80.62154</td><td> 84.94485</td><td> 81.55835</td></tr>\n",
       "\t<tr><th scope=row>bspl6.3</th><td> 90.61507</td><td> 94.68182</td><td> 87.12808</td><td> 96.21677</td><td> 91.85098</td><td> 87.88796</td><td> 88.06709</td><td>105.71217</td><td> 93.26485</td><td> 95.90482</td><td>...      </td><td> 89.92038</td><td> 87.81344</td><td> 97.36488</td><td> 96.18109</td><td> 93.53911</td><td> 91.50849</td><td> 95.83000</td><td> 97.15336</td><td>101.73781</td><td> 98.26491</td></tr>\n",
       "\t<tr><th scope=row>bspl6.4</th><td>104.41273</td><td> 98.90302</td><td>113.11302</td><td>105.31852</td><td>104.39295</td><td>100.64554</td><td> 99.11342</td><td>108.75949</td><td>102.62468</td><td>104.73470</td><td>...      </td><td>100.32671</td><td>100.17675</td><td> 91.45168</td><td> 84.89918</td><td>103.05540</td><td>106.56110</td><td>105.07879</td><td>101.45850</td><td>100.83942</td><td>101.65914</td></tr>\n",
       "\t<tr><th scope=row>bspl6.5</th><td>117.48838</td><td>116.18120</td><td>123.10410</td><td>121.19912</td><td>112.57119</td><td>111.54586</td><td>112.84151</td><td>137.53288</td><td>119.78736</td><td>128.09098</td><td>...      </td><td>119.51728</td><td>112.76666</td><td>117.08733</td><td>118.49276</td><td>117.51105</td><td>116.12841</td><td>117.24885</td><td>118.59469</td><td>129.41624</td><td>125.77624</td></tr>\n",
       "\t<tr><th scope=row>bspl6.6</th><td>127.84521</td><td>131.15946</td><td>131.81284</td><td>132.75449</td><td>136.82900</td><td>127.51944</td><td>123.30661</td><td>138.68616</td><td>130.22188</td><td>135.82817</td><td>...      </td><td>127.01489</td><td>129.58562</td><td>124.57126</td><td>115.98133</td><td>134.97914</td><td>133.04373</td><td>133.73039</td><td>134.23290</td><td>136.40901</td><td>135.01555</td></tr>\n",
       "</tbody>\n",
       "</table>\n"
      ],
      "text/latex": [
       "\\begin{tabular}{r|llllllllllllllllllllllllllllllllllllllllllllllllllllll}\n",
       "  & girl01 & girl02 & girl03 & girl04 & girl05 & girl06 & girl07 & girl08 & girl09 & girl10 & ... & girl45 & girl46 & girl47 & girl48 & girl49 & girl50 & girl51 & girl52 & girl53 & girl54\\\\\n",
       "\\hline\n",
       "\tbspl6.1 &  76.31934 &  73.95478 &  77.90689 &  77.47026 &  75.88055 &  73.24338 &  67.47464 &  80.33664 &  77.07537 &  74.69238 & ...       &  74.61202 &  71.32233 &  72.71142 &  71.37941 &  74.77540 &  75.01708 &  77.39230 &  68.16003 &  79.62849 &  75.81031\\\\\n",
       "\tbspl6.2 &  84.88827 &  84.78101 &  88.77767 &  83.85694 &  85.06788 &  83.39973 &  77.34082 &  90.73938 &  84.15664 &  80.77743 & ...       &  82.91216 &  77.51902 &  76.40760 &  73.30322 &  80.39976 &  80.51051 &  85.34395 &  80.62154 &  84.94485 &  81.55835\\\\\n",
       "\tbspl6.3 &  90.61507 &  94.68182 &  87.12808 &  96.21677 &  91.85098 &  87.88796 &  88.06709 & 105.71217 &  93.26485 &  95.90482 & ...       &  89.92038 &  87.81344 &  97.36488 &  96.18109 &  93.53911 &  91.50849 &  95.83000 &  97.15336 & 101.73781 &  98.26491\\\\\n",
       "\tbspl6.4 & 104.41273 &  98.90302 & 113.11302 & 105.31852 & 104.39295 & 100.64554 &  99.11342 & 108.75949 & 102.62468 & 104.73470 & ...       & 100.32671 & 100.17675 &  91.45168 &  84.89918 & 103.05540 & 106.56110 & 105.07879 & 101.45850 & 100.83942 & 101.65914\\\\\n",
       "\tbspl6.5 & 117.48838 & 116.18120 & 123.10410 & 121.19912 & 112.57119 & 111.54586 & 112.84151 & 137.53288 & 119.78736 & 128.09098 & ...       & 119.51728 & 112.76666 & 117.08733 & 118.49276 & 117.51105 & 116.12841 & 117.24885 & 118.59469 & 129.41624 & 125.77624\\\\\n",
       "\tbspl6.6 & 127.84521 & 131.15946 & 131.81284 & 132.75449 & 136.82900 & 127.51944 & 123.30661 & 138.68616 & 130.22188 & 135.82817 & ...       & 127.01489 & 129.58562 & 124.57126 & 115.98133 & 134.97914 & 133.04373 & 133.73039 & 134.23290 & 136.40901 & 135.01555\\\\\n",
       "\\end{tabular}\n"
      ],
      "text/markdown": [
       "\n",
       "| <!--/--> | girl01 | girl02 | girl03 | girl04 | girl05 | girl06 | girl07 | girl08 | girl09 | girl10 | ... | girl45 | girl46 | girl47 | girl48 | girl49 | girl50 | girl51 | girl52 | girl53 | girl54 | \n",
       "|---|---|---|---|---|---|\n",
       "| bspl6.1 |  76.31934 |  73.95478 |  77.90689 |  77.47026 |  75.88055 |  73.24338 |  67.47464 |  80.33664 |  77.07537 |  74.69238 | ...       |  74.61202 |  71.32233 |  72.71142 |  71.37941 |  74.77540 |  75.01708 |  77.39230 |  68.16003 |  79.62849 |  75.81031 | \n",
       "| bspl6.2 |  84.88827 |  84.78101 |  88.77767 |  83.85694 |  85.06788 |  83.39973 |  77.34082 |  90.73938 |  84.15664 |  80.77743 | ...       |  82.91216 |  77.51902 |  76.40760 |  73.30322 |  80.39976 |  80.51051 |  85.34395 |  80.62154 |  84.94485 |  81.55835 | \n",
       "| bspl6.3 |  90.61507 |  94.68182 |  87.12808 |  96.21677 |  91.85098 |  87.88796 |  88.06709 | 105.71217 |  93.26485 |  95.90482 | ...       |  89.92038 |  87.81344 |  97.36488 |  96.18109 |  93.53911 |  91.50849 |  95.83000 |  97.15336 | 101.73781 |  98.26491 | \n",
       "| bspl6.4 | 104.41273 |  98.90302 | 113.11302 | 105.31852 | 104.39295 | 100.64554 |  99.11342 | 108.75949 | 102.62468 | 104.73470 | ...       | 100.32671 | 100.17675 |  91.45168 |  84.89918 | 103.05540 | 106.56110 | 105.07879 | 101.45850 | 100.83942 | 101.65914 | \n",
       "| bspl6.5 | 117.48838 | 116.18120 | 123.10410 | 121.19912 | 112.57119 | 111.54586 | 112.84151 | 137.53288 | 119.78736 | 128.09098 | ...       | 119.51728 | 112.76666 | 117.08733 | 118.49276 | 117.51105 | 116.12841 | 117.24885 | 118.59469 | 129.41624 | 125.77624 | \n",
       "| bspl6.6 | 127.84521 | 131.15946 | 131.81284 | 132.75449 | 136.82900 | 127.51944 | 123.30661 | 138.68616 | 130.22188 | 135.82817 | ...       | 127.01489 | 129.58562 | 124.57126 | 115.98133 | 134.97914 | 133.04373 | 133.73039 | 134.23290 | 136.40901 | 135.01555 | \n",
       "\n",
       "\n"
      ],
      "text/plain": [
       "        girl01    girl02    girl03    girl04    girl05    girl06    girl07   \n",
       "bspl6.1  76.31934  73.95478  77.90689  77.47026  75.88055  73.24338  67.47464\n",
       "bspl6.2  84.88827  84.78101  88.77767  83.85694  85.06788  83.39973  77.34082\n",
       "bspl6.3  90.61507  94.68182  87.12808  96.21677  91.85098  87.88796  88.06709\n",
       "bspl6.4 104.41273  98.90302 113.11302 105.31852 104.39295 100.64554  99.11342\n",
       "bspl6.5 117.48838 116.18120 123.10410 121.19912 112.57119 111.54586 112.84151\n",
       "bspl6.6 127.84521 131.15946 131.81284 132.75449 136.82900 127.51944 123.30661\n",
       "        girl08    girl09    girl10    ... girl45    girl46    girl47   \n",
       "bspl6.1  80.33664  77.07537  74.69238 ...  74.61202  71.32233  72.71142\n",
       "bspl6.2  90.73938  84.15664  80.77743 ...  82.91216  77.51902  76.40760\n",
       "bspl6.3 105.71217  93.26485  95.90482 ...  89.92038  87.81344  97.36488\n",
       "bspl6.4 108.75949 102.62468 104.73470 ... 100.32671 100.17675  91.45168\n",
       "bspl6.5 137.53288 119.78736 128.09098 ... 119.51728 112.76666 117.08733\n",
       "bspl6.6 138.68616 130.22188 135.82817 ... 127.01489 129.58562 124.57126\n",
       "        girl48    girl49    girl50    girl51    girl52    girl53    girl54   \n",
       "bspl6.1  71.37941  74.77540  75.01708  77.39230  68.16003  79.62849  75.81031\n",
       "bspl6.2  73.30322  80.39976  80.51051  85.34395  80.62154  84.94485  81.55835\n",
       "bspl6.3  96.18109  93.53911  91.50849  95.83000  97.15336 101.73781  98.26491\n",
       "bspl6.4  84.89918 103.05540 106.56110 105.07879 101.45850 100.83942 101.65914\n",
       "bspl6.5 118.49276 117.51105 116.12841 117.24885 118.59469 129.41624 125.77624\n",
       "bspl6.6 115.98133 134.97914 133.04373 133.73039 134.23290 136.40901 135.01555"
      ]
     },
     "metadata": {},
     "output_type": "display_data"
    }
   ],
   "source": [
    "# Coefficient matrix\n",
    "coefMatrix <- smoothGrowth$fd$coefs\n",
    "head(coefMatrix)"
   ]
  },
  {
   "cell_type": "code",
   "execution_count": 19,
   "metadata": {},
   "outputs": [
    {
     "data": {
      "text/html": [
       "<table>\n",
       "<thead><tr><th scope=col>bspl6.1</th><th scope=col>bspl6.2</th><th scope=col>bspl6.3</th><th scope=col>bspl6.4</th><th scope=col>bspl6.5</th><th scope=col>bspl6.6</th><th scope=col>bspl6.7</th><th scope=col>bspl6.8</th><th scope=col>bspl6.9</th><th scope=col>bspl6.10</th><th scope=col>bspl6.11</th><th scope=col>bspl6.12</th></tr></thead>\n",
       "<tbody>\n",
       "\t<tr><td>1.000000000 </td><td>0.0000000   </td><td>0.00000000  </td><td>0.000000000 </td><td>0.000000e+00</td><td>0.000000e+00</td><td>0           </td><td>0           </td><td>0           </td><td>0           </td><td>0           </td><td>0           </td></tr>\n",
       "\t<tr><td>0.580904327 </td><td>0.3738122   </td><td>0.04363238  </td><td>0.001628691 </td><td>2.229481e-05</td><td>9.633063e-08</td><td>0           </td><td>0           </td><td>0           </td><td>0           </td><td>0           </td><td>0           </td></tr>\n",
       "\t<tr><td>0.315808806 </td><td>0.5301910   </td><td>0.14205480  </td><td>0.011603144 </td><td>3.391205e-04</td><td>3.082580e-06</td><td>0           </td><td>0           </td><td>0           </td><td>0           </td><td>0           </td><td>0           </td></tr>\n",
       "\t<tr><td>0.157741050 </td><td>0.5491367   </td><td>0.25682476  </td><td>0.034646404 </td><td>1.627716e-03</td><td>2.340834e-05</td><td>0           </td><td>0           </td><td>0           </td><td>0           </td><td>0           </td><td>0           </td></tr>\n",
       "\t<tr><td>0.070429628 </td><td>0.4907584   </td><td>0.36171536  </td><td>0.072135170 </td><td>4.862843e-03</td><td>9.864256e-05</td><td>0           </td><td>0           </td><td>0           </td><td>0           </td><td>0           </td><td>0           </td></tr>\n",
       "\t<tr><td>0.000171144 </td><td>0.1405170   </td><td>0.48209915  </td><td>0.314269390 </td><td>5.978679e-02</td><td>3.156562e-03</td><td>0           </td><td>0           </td><td>0           </td><td>0           </td><td>0           </td><td>0           </td></tr>\n",
       "</tbody>\n",
       "</table>\n"
      ],
      "text/latex": [
       "\\begin{tabular}{llllllllllll}\n",
       " bspl6.1 & bspl6.2 & bspl6.3 & bspl6.4 & bspl6.5 & bspl6.6 & bspl6.7 & bspl6.8 & bspl6.9 & bspl6.10 & bspl6.11 & bspl6.12\\\\\n",
       "\\hline\n",
       "\t 1.000000000  & 0.0000000    & 0.00000000   & 0.000000000  & 0.000000e+00 & 0.000000e+00 & 0            & 0            & 0            & 0            & 0            & 0           \\\\\n",
       "\t 0.580904327  & 0.3738122    & 0.04363238   & 0.001628691  & 2.229481e-05 & 9.633063e-08 & 0            & 0            & 0            & 0            & 0            & 0           \\\\\n",
       "\t 0.315808806  & 0.5301910    & 0.14205480   & 0.011603144  & 3.391205e-04 & 3.082580e-06 & 0            & 0            & 0            & 0            & 0            & 0           \\\\\n",
       "\t 0.157741050  & 0.5491367    & 0.25682476   & 0.034646404  & 1.627716e-03 & 2.340834e-05 & 0            & 0            & 0            & 0            & 0            & 0           \\\\\n",
       "\t 0.070429628  & 0.4907584    & 0.36171536   & 0.072135170  & 4.862843e-03 & 9.864256e-05 & 0            & 0            & 0            & 0            & 0            & 0           \\\\\n",
       "\t 0.000171144  & 0.1405170    & 0.48209915   & 0.314269390  & 5.978679e-02 & 3.156562e-03 & 0            & 0            & 0            & 0            & 0            & 0           \\\\\n",
       "\\end{tabular}\n"
      ],
      "text/markdown": [
       "\n",
       "bspl6.1 | bspl6.2 | bspl6.3 | bspl6.4 | bspl6.5 | bspl6.6 | bspl6.7 | bspl6.8 | bspl6.9 | bspl6.10 | bspl6.11 | bspl6.12 | \n",
       "|---|---|---|---|---|---|\n",
       "| 1.000000000  | 0.0000000    | 0.00000000   | 0.000000000  | 0.000000e+00 | 0.000000e+00 | 0            | 0            | 0            | 0            | 0            | 0            | \n",
       "| 0.580904327  | 0.3738122    | 0.04363238   | 0.001628691  | 2.229481e-05 | 9.633063e-08 | 0            | 0            | 0            | 0            | 0            | 0            | \n",
       "| 0.315808806  | 0.5301910    | 0.14205480   | 0.011603144  | 3.391205e-04 | 3.082580e-06 | 0            | 0            | 0            | 0            | 0            | 0            | \n",
       "| 0.157741050  | 0.5491367    | 0.25682476   | 0.034646404  | 1.627716e-03 | 2.340834e-05 | 0            | 0            | 0            | 0            | 0            | 0            | \n",
       "| 0.070429628  | 0.4907584    | 0.36171536   | 0.072135170  | 4.862843e-03 | 9.864256e-05 | 0            | 0            | 0            | 0            | 0            | 0            | \n",
       "| 0.000171144  | 0.1405170    | 0.48209915   | 0.314269390  | 5.978679e-02 | 3.156562e-03 | 0            | 0            | 0            | 0            | 0            | 0            | \n",
       "\n",
       "\n"
      ],
      "text/plain": [
       "     bspl6.1     bspl6.2   bspl6.3    bspl6.4     bspl6.5      bspl6.6     \n",
       "[1,] 1.000000000 0.0000000 0.00000000 0.000000000 0.000000e+00 0.000000e+00\n",
       "[2,] 0.580904327 0.3738122 0.04363238 0.001628691 2.229481e-05 9.633063e-08\n",
       "[3,] 0.315808806 0.5301910 0.14205480 0.011603144 3.391205e-04 3.082580e-06\n",
       "[4,] 0.157741050 0.5491367 0.25682476 0.034646404 1.627716e-03 2.340834e-05\n",
       "[5,] 0.070429628 0.4907584 0.36171536 0.072135170 4.862843e-03 9.864256e-05\n",
       "[6,] 0.000171144 0.1405170 0.48209915 0.314269390 5.978679e-02 3.156562e-03\n",
       "     bspl6.7 bspl6.8 bspl6.9 bspl6.10 bspl6.11 bspl6.12\n",
       "[1,] 0       0       0       0        0        0       \n",
       "[2,] 0       0       0       0        0        0       \n",
       "[3,] 0       0       0       0        0        0       \n",
       "[4,] 0       0       0       0        0        0       \n",
       "[5,] 0       0       0       0        0        0       \n",
       "[6,] 0       0       0       0        0        0       "
      ]
     },
     "metadata": {},
     "output_type": "display_data"
    }
   ],
   "source": [
    "# Evaluating the basis functions on the age vector. \n",
    "age <- growth$age\n",
    "basisMat12 <- eval.basis(evalarg = age, basisobj = heightBasis_12)\n",
    "DDbasisMat12 <- eval.basis(evalarg = age, basisobj = heightBasis_12, Lfdobj = 2)\n",
    "head(basisMat12)"
   ]
  },
  {
   "cell_type": "code",
   "execution_count": 20,
   "metadata": {},
   "outputs": [
    {
     "data": {
      "text/html": [
       "<ol class=list-inline>\n",
       "\t<li>31</li>\n",
       "\t<li>12</li>\n",
       "</ol>\n"
      ],
      "text/latex": [
       "\\begin{enumerate*}\n",
       "\\item 31\n",
       "\\item 12\n",
       "\\end{enumerate*}\n"
      ],
      "text/markdown": [
       "1. 31\n",
       "2. 12\n",
       "\n",
       "\n"
      ],
      "text/plain": [
       "[1] 31 12"
      ]
     },
     "metadata": {},
     "output_type": "display_data"
    },
    {
     "data": {
      "text/html": [
       "<ol class=list-inline>\n",
       "\t<li>12</li>\n",
       "\t<li>54</li>\n",
       "</ol>\n"
      ],
      "text/latex": [
       "\\begin{enumerate*}\n",
       "\\item 12\n",
       "\\item 54\n",
       "\\end{enumerate*}\n"
      ],
      "text/markdown": [
       "1. 12\n",
       "2. 54\n",
       "\n",
       "\n"
      ],
      "text/plain": [
       "[1] 12 54"
      ]
     },
     "metadata": {},
     "output_type": "display_data"
    },
    {
     "data": {
      "text/html": [
       "<table>\n",
       "<thead><tr><th scope=col>girl01</th><th scope=col>girl02</th><th scope=col>girl03</th><th scope=col>girl04</th><th scope=col>girl05</th><th scope=col>girl06</th><th scope=col>girl07</th><th scope=col>girl08</th><th scope=col>girl09</th><th scope=col>girl10</th><th scope=col>...</th><th scope=col>girl45</th><th scope=col>girl46</th><th scope=col>girl47</th><th scope=col>girl48</th><th scope=col>girl49</th><th scope=col>girl50</th><th scope=col>girl51</th><th scope=col>girl52</th><th scope=col>girl53</th><th scope=col>girl54</th></tr></thead>\n",
       "<tbody>\n",
       "\t<tr><td>76.31934 </td><td>73.95478 </td><td>77.90689 </td><td>77.47026 </td><td>75.88055 </td><td>73.24338 </td><td>67.47464 </td><td> 80.33664</td><td>77.07537 </td><td>74.69238 </td><td>...      </td><td>74.61202 </td><td>71.32233 </td><td>72.71142 </td><td>71.37941 </td><td>74.77540 </td><td>75.01708 </td><td>77.39230 </td><td>68.16003 </td><td> 79.62849</td><td>75.81031 </td></tr>\n",
       "\t<tr><td>80.19295 </td><td>78.94771 </td><td>82.43122 </td><td>80.72197 </td><td>80.05898 </td><td>77.72441 </td><td>72.11378 </td><td> 85.38008</td><td>80.47139 </td><td>77.94272 </td><td>...      </td><td>78.42554 </td><td>74.40620 </td><td>75.20030 </td><td>73.20378 </td><td>77.74358 </td><td>77.84245 </td><td>81.21519 </td><td>74.13871 </td><td> 82.61616</td><td>78.98196 </td></tr>\n",
       "\t<tr><td>83.23338 </td><td>82.94310 </td><td>85.40439 </td><td>83.85758 </td><td>83.36373 </td><td>81.03962 </td><td>76.01352 </td><td> 89.80617</td><td>83.44069 </td><td>81.29883 </td><td>...      </td><td>81.50107 </td><td>77.29943 </td><td>78.40590 </td><td>76.09558 </td><td>80.76567 </td><td>80.65246 </td><td>84.56230 </td><td>79.28933 </td><td> 85.85109</td><td>82.36471 </td></tr>\n",
       "\t<tr><td>85.73790 </td><td>86.15752 </td><td>87.53926 </td><td>86.82930 </td><td>86.07625 </td><td>83.59470 </td><td>79.35249 </td><td> 93.64545</td><td>86.07778 </td><td>84.61099 </td><td>...      </td><td>84.06674 </td><td>80.02901 </td><td>81.79548 </td><td>79.35167 </td><td>83.73370 </td><td>83.43029 </td><td>87.51953 </td><td>83.68662 </td><td> 89.04337</td><td>85.71195 </td></tr>\n",
       "\t<tr><td>87.92740 </td><td>88.77576 </td><td>89.34197 </td><td>89.61242 </td><td>88.40724 </td><td>85.69313 </td><td>82.27354 </td><td> 96.95477</td><td>88.46250 </td><td>87.78434 </td><td>...      </td><td>86.30112 </td><td>82.61720 </td><td>85.01563 </td><td>82.50344 </td><td>86.57646 </td><td>86.15930 </td><td>90.16038 </td><td>87.41672 </td><td> 92.01259</td><td>88.86681 </td></tr>\n",
       "\t<tr><td>95.86828 </td><td>96.01416 </td><td>97.81651 </td><td>98.94614 </td><td>96.21743 </td><td>92.80363 </td><td>91.62028 </td><td>106.56812</td><td>96.62609 </td><td>98.60082 </td><td>...      </td><td>94.08997 </td><td>91.87322 </td><td>93.82249 </td><td>90.81300 </td><td>96.24429 </td><td>96.29390 </td><td>98.66018 </td><td>97.57733 </td><td>100.85624</td><td>98.74103 </td></tr>\n",
       "</tbody>\n",
       "</table>\n"
      ],
      "text/latex": [
       "\\begin{tabular}{llllllllllllllllllllllllllllllllllllllllllllllllllllll}\n",
       " girl01 & girl02 & girl03 & girl04 & girl05 & girl06 & girl07 & girl08 & girl09 & girl10 & ... & girl45 & girl46 & girl47 & girl48 & girl49 & girl50 & girl51 & girl52 & girl53 & girl54\\\\\n",
       "\\hline\n",
       "\t 76.31934  & 73.95478  & 77.90689  & 77.47026  & 75.88055  & 73.24338  & 67.47464  &  80.33664 & 77.07537  & 74.69238  & ...       & 74.61202  & 71.32233  & 72.71142  & 71.37941  & 74.77540  & 75.01708  & 77.39230  & 68.16003  &  79.62849 & 75.81031 \\\\\n",
       "\t 80.19295  & 78.94771  & 82.43122  & 80.72197  & 80.05898  & 77.72441  & 72.11378  &  85.38008 & 80.47139  & 77.94272  & ...       & 78.42554  & 74.40620  & 75.20030  & 73.20378  & 77.74358  & 77.84245  & 81.21519  & 74.13871  &  82.61616 & 78.98196 \\\\\n",
       "\t 83.23338  & 82.94310  & 85.40439  & 83.85758  & 83.36373  & 81.03962  & 76.01352  &  89.80617 & 83.44069  & 81.29883  & ...       & 81.50107  & 77.29943  & 78.40590  & 76.09558  & 80.76567  & 80.65246  & 84.56230  & 79.28933  &  85.85109 & 82.36471 \\\\\n",
       "\t 85.73790  & 86.15752  & 87.53926  & 86.82930  & 86.07625  & 83.59470  & 79.35249  &  93.64545 & 86.07778  & 84.61099  & ...       & 84.06674  & 80.02901  & 81.79548  & 79.35167  & 83.73370  & 83.43029  & 87.51953  & 83.68662  &  89.04337 & 85.71195 \\\\\n",
       "\t 87.92740  & 88.77576  & 89.34197  & 89.61242  & 88.40724  & 85.69313  & 82.27354  &  96.95477 & 88.46250  & 87.78434  & ...       & 86.30112  & 82.61720  & 85.01563  & 82.50344  & 86.57646  & 86.15930  & 90.16038  & 87.41672  &  92.01259 & 88.86681 \\\\\n",
       "\t 95.86828  & 96.01416  & 97.81651  & 98.94614  & 96.21743  & 92.80363  & 91.62028  & 106.56812 & 96.62609  & 98.60082  & ...       & 94.08997  & 91.87322  & 93.82249  & 90.81300  & 96.24429  & 96.29390  & 98.66018  & 97.57733  & 100.85624 & 98.74103 \\\\\n",
       "\\end{tabular}\n"
      ],
      "text/markdown": [
       "\n",
       "girl01 | girl02 | girl03 | girl04 | girl05 | girl06 | girl07 | girl08 | girl09 | girl10 | ... | girl45 | girl46 | girl47 | girl48 | girl49 | girl50 | girl51 | girl52 | girl53 | girl54 | \n",
       "|---|---|---|---|---|---|\n",
       "| 76.31934  | 73.95478  | 77.90689  | 77.47026  | 75.88055  | 73.24338  | 67.47464  |  80.33664 | 77.07537  | 74.69238  | ...       | 74.61202  | 71.32233  | 72.71142  | 71.37941  | 74.77540  | 75.01708  | 77.39230  | 68.16003  |  79.62849 | 75.81031  | \n",
       "| 80.19295  | 78.94771  | 82.43122  | 80.72197  | 80.05898  | 77.72441  | 72.11378  |  85.38008 | 80.47139  | 77.94272  | ...       | 78.42554  | 74.40620  | 75.20030  | 73.20378  | 77.74358  | 77.84245  | 81.21519  | 74.13871  |  82.61616 | 78.98196  | \n",
       "| 83.23338  | 82.94310  | 85.40439  | 83.85758  | 83.36373  | 81.03962  | 76.01352  |  89.80617 | 83.44069  | 81.29883  | ...       | 81.50107  | 77.29943  | 78.40590  | 76.09558  | 80.76567  | 80.65246  | 84.56230  | 79.28933  |  85.85109 | 82.36471  | \n",
       "| 85.73790  | 86.15752  | 87.53926  | 86.82930  | 86.07625  | 83.59470  | 79.35249  |  93.64545 | 86.07778  | 84.61099  | ...       | 84.06674  | 80.02901  | 81.79548  | 79.35167  | 83.73370  | 83.43029  | 87.51953  | 83.68662  |  89.04337 | 85.71195  | \n",
       "| 87.92740  | 88.77576  | 89.34197  | 89.61242  | 88.40724  | 85.69313  | 82.27354  |  96.95477 | 88.46250  | 87.78434  | ...       | 86.30112  | 82.61720  | 85.01563  | 82.50344  | 86.57646  | 86.15930  | 90.16038  | 87.41672  |  92.01259 | 88.86681  | \n",
       "| 95.86828  | 96.01416  | 97.81651  | 98.94614  | 96.21743  | 92.80363  | 91.62028  | 106.56812 | 96.62609  | 98.60082  | ...       | 94.08997  | 91.87322  | 93.82249  | 90.81300  | 96.24429  | 96.29390  | 98.66018  | 97.57733  | 100.85624 | 98.74103  | \n",
       "\n",
       "\n"
      ],
      "text/plain": [
       "     girl01   girl02   girl03   girl04   girl05   girl06   girl07   girl08   \n",
       "[1,] 76.31934 73.95478 77.90689 77.47026 75.88055 73.24338 67.47464  80.33664\n",
       "[2,] 80.19295 78.94771 82.43122 80.72197 80.05898 77.72441 72.11378  85.38008\n",
       "[3,] 83.23338 82.94310 85.40439 83.85758 83.36373 81.03962 76.01352  89.80617\n",
       "[4,] 85.73790 86.15752 87.53926 86.82930 86.07625 83.59470 79.35249  93.64545\n",
       "[5,] 87.92740 88.77576 89.34197 89.61242 88.40724 85.69313 82.27354  96.95477\n",
       "[6,] 95.86828 96.01416 97.81651 98.94614 96.21743 92.80363 91.62028 106.56812\n",
       "     girl09   girl10   ... girl45   girl46   girl47   girl48   girl49  \n",
       "[1,] 77.07537 74.69238 ... 74.61202 71.32233 72.71142 71.37941 74.77540\n",
       "[2,] 80.47139 77.94272 ... 78.42554 74.40620 75.20030 73.20378 77.74358\n",
       "[3,] 83.44069 81.29883 ... 81.50107 77.29943 78.40590 76.09558 80.76567\n",
       "[4,] 86.07778 84.61099 ... 84.06674 80.02901 81.79548 79.35167 83.73370\n",
       "[5,] 88.46250 87.78434 ... 86.30112 82.61720 85.01563 82.50344 86.57646\n",
       "[6,] 96.62609 98.60082 ... 94.08997 91.87322 93.82249 90.81300 96.24429\n",
       "     girl50   girl51   girl52   girl53    girl54  \n",
       "[1,] 75.01708 77.39230 68.16003  79.62849 75.81031\n",
       "[2,] 77.84245 81.21519 74.13871  82.61616 78.98196\n",
       "[3,] 80.65246 84.56230 79.28933  85.85109 82.36471\n",
       "[4,] 83.43029 87.51953 83.68662  89.04337 85.71195\n",
       "[5,] 86.15930 90.16038 87.41672  92.01259 88.86681\n",
       "[6,] 96.29390 98.66018 97.57733 100.85624 98.74103"
      ]
     },
     "metadata": {},
     "output_type": "display_data"
    }
   ],
   "source": [
    "dim(basisMat12)\n",
    "dim(coefMatrix)\n",
    "predMatrix <- basisMat12 %*% coefMatrix\n",
    "DDpredMatrix <- DDbasisMat12 %*% coefMatrix\n",
    "\n",
    "head(predMatrix)"
   ]
  },
  {
   "cell_type": "code",
   "execution_count": 27,
   "metadata": {},
   "outputs": [
    {
     "data": {
      "image/png": "[encoded data removed]",
      "text/plain": [
       "plot without title"
      ]
     },
     "metadata": {},
     "output_type": "display_data"
    }
   ],
   "source": [
    "growthObs <- data.frame(growthMatrix[, 1:10]) %>% mutate(age = age) %>% gather(Girl, Height, -age)\n",
    "growthPred <- data.frame(predMatrix[, 1:10]) %>% mutate(age = age) %>% gather(Girl, Height, -age)\n",
    "DDgrowthPred <- data.frame(DDpredMatrix[, 1:10]) %>% mutate(age = age) %>% gather(Girl, Height, -age)\n",
    "\n",
    "p <- ggplot() + geom_point(data = growthObs, aes(age, Height, color=Girl)) + \n",
    "           geom_line(data = growthPred, aes(age, Height, color=Girl))\n",
    "DDp <- ggplot() + geom_line(data = DDgrowthPred, aes(age, Height, color=Girl))\n",
    "\n",
    "multiplot(p, DDp, cols = 1)"
   ]
  },
  {
   "cell_type": "markdown",
   "metadata": {},
   "source": [
    "## Smoothing with penalties"
   ]
  },
  {
   "cell_type": "code",
   "execution_count": null,
   "metadata": {
    "collapsed": true
   },
   "outputs": [],
   "source": []
  },
  {
   "cell_type": "markdown",
   "metadata": {},
   "source": [
    "# Chapter 6"
   ]
  },
  {
   "cell_type": "code",
   "execution_count": 13,
   "metadata": {},
   "outputs": [
    {
     "data": {
      "text/html": [
       "<ol class=list-inline>\n",
       "\t<li>365</li>\n",
       "\t<li>35</li>\n",
       "\t<li>3</li>\n",
       "</ol>\n"
      ],
      "text/latex": [
       "\\begin{enumerate*}\n",
       "\\item 365\n",
       "\\item 35\n",
       "\\item 3\n",
       "\\end{enumerate*}\n"
      ],
      "text/markdown": [
       "1. 365\n",
       "2. 35\n",
       "3. 3\n",
       "\n",
       "\n"
      ],
      "text/plain": [
       "[1] 365  35   3"
      ]
     },
     "metadata": {},
     "output_type": "display_data"
    },
    {
     "data": {
      "text/html": [
       "<table>\n",
       "<thead><tr><th></th><th scope=col>St. Johns</th><th scope=col>Halifax</th><th scope=col>Sydney</th><th scope=col>Yarmouth</th><th scope=col>Charlottvl</th><th scope=col>Fredericton</th><th scope=col>Scheffervll</th><th scope=col>Arvida</th><th scope=col>Bagottville</th><th scope=col>Quebec</th><th scope=col>...</th><th scope=col>Vancouver</th><th scope=col>Victoria</th><th scope=col>Pr. George</th><th scope=col>Pr. Rupert</th><th scope=col>Whitehorse</th><th scope=col>Dawson</th><th scope=col>Yellowknife</th><th scope=col>Iqaluit</th><th scope=col>Inuvik</th><th scope=col>Resolute</th></tr></thead>\n",
       "<tbody>\n",
       "\t<tr><th scope=row>jul01</th><td>0.3424227  </td><td>0.5185139  </td><td>0.2041200  </td><td>0.23044892 </td><td>0.5682017  </td><td> 0.46239800</td><td>0.32221929 </td><td>0.6334685  </td><td>0.6720979  </td><td>0.6127839  </td><td>...        </td><td> 0.2041200 </td><td> 0.0000000 </td><td>0.04139269 </td><td>0.6901961  </td><td> 0.20411998</td><td> 0.04139269</td><td> 0.32221929</td><td> 0.17609126</td><td> 0.00000000</td><td>-0.04575749</td></tr>\n",
       "\t<tr><th scope=row>jul02</th><td>0.2787536  </td><td>0.1139434  </td><td>0.3010300  </td><td>0.17609126 </td><td>0.1461280  </td><td> 0.36172784</td><td>0.34242268 </td><td>0.3010300  </td><td>0.3979400  </td><td>0.3617278  </td><td>...        </td><td>-0.2218487 </td><td>-0.3979400 </td><td>0.34242268 </td><td>0.4913617  </td><td> 0.00000000</td><td>-0.09691001</td><td>-0.04575749</td><td>-0.04575749</td><td> 0.11394335</td><td>-0.15490196</td></tr>\n",
       "\t<tr><th scope=row>jul03</th><td>0.5185139  </td><td>0.3802112  </td><td>0.4149733  </td><td>0.17609126 </td><td>0.5314789  </td><td> 0.59106461</td><td>0.55630250 </td><td>0.6720979  </td><td>0.5314789  </td><td>0.5440680  </td><td>...        </td><td> 0.4913617 </td><td> 0.3222193 </td><td>0.20411998 </td><td>0.4471580  </td><td> 0.04139269</td><td> 0.30103000</td><td> 0.25527251</td><td> 0.04139269</td><td>-0.39794001</td><td>-0.30103000</td></tr>\n",
       "\t<tr><th scope=row>jul04</th><td>0.5051500  </td><td>0.6232493  </td><td>0.4771213  </td><td>0.39794001 </td><td>0.3424227  </td><td>-0.09691001</td><td>0.70757018 </td><td>0.3979400  </td><td>0.4771213  </td><td>0.4149733  </td><td>...        </td><td> 0.0000000 </td><td>-0.2218487 </td><td>0.34242268 </td><td>0.5440680  </td><td> 0.14612804</td><td> 0.34242268</td><td>-0.22184875</td><td> 0.04139269</td><td>-0.04575749</td><td>-0.52287875</td></tr>\n",
       "\t<tr><th scope=row>jul05</th><td>0.4913617  </td><td>0.5314789  </td><td>0.6232493  </td><td>0.41497335 </td><td>0.5440680  </td><td> 0.32221929</td><td>0.50514998 </td><td>0.3617278  </td><td>0.6627578  </td><td>0.7708520  </td><td>...        </td><td> 0.5910646 </td><td> 0.1461280 </td><td>0.23044892 </td><td>0.2552725  </td><td> 0.11394335</td><td> 0.07918125</td><td> 0.14612804</td><td> 0.32221929</td><td> 0.07918125</td><td> 0.04139269</td></tr>\n",
       "\t<tr><th scope=row>jul06</th><td>0.4771213  </td><td>0.1139434  </td><td>0.5185139  </td><td>0.07918125 </td><td>0.5185139  </td><td> 0.43136376</td><td>0.07918125 </td><td>0.5682017  </td><td>0.2552725  </td><td>0.3979400  </td><td>...        </td><td>-0.3979400 </td><td>-1.0000000 </td><td>0.27875360 </td><td>0.4623980  </td><td>-0.22184875</td><td> 0.17609126</td><td> 0.39794001</td><td> 0.07918125</td><td>-0.04575749</td><td>-0.15490196</td></tr>\n",
       "</tbody>\n",
       "</table>\n"
      ],
      "text/latex": [
       "\\begin{tabular}{r|lllllllllllllllllllllllllllllllllll}\n",
       "  & St. Johns & Halifax & Sydney & Yarmouth & Charlottvl & Fredericton & Scheffervll & Arvida & Bagottville & Quebec & ... & Vancouver & Victoria & Pr. George & Pr. Rupert & Whitehorse & Dawson & Yellowknife & Iqaluit & Inuvik & Resolute\\\\\n",
       "\\hline\n",
       "\tjul01 & 0.3424227   & 0.5185139   & 0.2041200   & 0.23044892  & 0.5682017   &  0.46239800 & 0.32221929  & 0.6334685   & 0.6720979   & 0.6127839   & ...         &  0.2041200  &  0.0000000  & 0.04139269  & 0.6901961   &  0.20411998 &  0.04139269 &  0.32221929 &  0.17609126 &  0.00000000 & -0.04575749\\\\\n",
       "\tjul02 & 0.2787536   & 0.1139434   & 0.3010300   & 0.17609126  & 0.1461280   &  0.36172784 & 0.34242268  & 0.3010300   & 0.3979400   & 0.3617278   & ...         & -0.2218487  & -0.3979400  & 0.34242268  & 0.4913617   &  0.00000000 & -0.09691001 & -0.04575749 & -0.04575749 &  0.11394335 & -0.15490196\\\\\n",
       "\tjul03 & 0.5185139   & 0.3802112   & 0.4149733   & 0.17609126  & 0.5314789   &  0.59106461 & 0.55630250  & 0.6720979   & 0.5314789   & 0.5440680   & ...         &  0.4913617  &  0.3222193  & 0.20411998  & 0.4471580   &  0.04139269 &  0.30103000 &  0.25527251 &  0.04139269 & -0.39794001 & -0.30103000\\\\\n",
       "\tjul04 & 0.5051500   & 0.6232493   & 0.4771213   & 0.39794001  & 0.3424227   & -0.09691001 & 0.70757018  & 0.3979400   & 0.4771213   & 0.4149733   & ...         &  0.0000000  & -0.2218487  & 0.34242268  & 0.5440680   &  0.14612804 &  0.34242268 & -0.22184875 &  0.04139269 & -0.04575749 & -0.52287875\\\\\n",
       "\tjul05 & 0.4913617   & 0.5314789   & 0.6232493   & 0.41497335  & 0.5440680   &  0.32221929 & 0.50514998  & 0.3617278   & 0.6627578   & 0.7708520   & ...         &  0.5910646  &  0.1461280  & 0.23044892  & 0.2552725   &  0.11394335 &  0.07918125 &  0.14612804 &  0.32221929 &  0.07918125 &  0.04139269\\\\\n",
       "\tjul06 & 0.4771213   & 0.1139434   & 0.5185139   & 0.07918125  & 0.5185139   &  0.43136376 & 0.07918125  & 0.5682017   & 0.2552725   & 0.3979400   & ...         & -0.3979400  & -1.0000000  & 0.27875360  & 0.4623980   & -0.22184875 &  0.17609126 &  0.39794001 &  0.07918125 & -0.04575749 & -0.15490196\\\\\n",
       "\\end{tabular}\n"
      ],
      "text/markdown": [
       "\n",
       "| <!--/--> | St. Johns | Halifax | Sydney | Yarmouth | Charlottvl | Fredericton | Scheffervll | Arvida | Bagottville | Quebec | ... | Vancouver | Victoria | Pr. George | Pr. Rupert | Whitehorse | Dawson | Yellowknife | Iqaluit | Inuvik | Resolute | \n",
       "|---|---|---|---|---|---|\n",
       "| jul01 | 0.3424227   | 0.5185139   | 0.2041200   | 0.23044892  | 0.5682017   |  0.46239800 | 0.32221929  | 0.6334685   | 0.6720979   | 0.6127839   | ...         |  0.2041200  |  0.0000000  | 0.04139269  | 0.6901961   |  0.20411998 |  0.04139269 |  0.32221929 |  0.17609126 |  0.00000000 | -0.04575749 | \n",
       "| jul02 | 0.2787536   | 0.1139434   | 0.3010300   | 0.17609126  | 0.1461280   |  0.36172784 | 0.34242268  | 0.3010300   | 0.3979400   | 0.3617278   | ...         | -0.2218487  | -0.3979400  | 0.34242268  | 0.4913617   |  0.00000000 | -0.09691001 | -0.04575749 | -0.04575749 |  0.11394335 | -0.15490196 | \n",
       "| jul03 | 0.5185139   | 0.3802112   | 0.4149733   | 0.17609126  | 0.5314789   |  0.59106461 | 0.55630250  | 0.6720979   | 0.5314789   | 0.5440680   | ...         |  0.4913617  |  0.3222193  | 0.20411998  | 0.4471580   |  0.04139269 |  0.30103000 |  0.25527251 |  0.04139269 | -0.39794001 | -0.30103000 | \n",
       "| jul04 | 0.5051500   | 0.6232493   | 0.4771213   | 0.39794001  | 0.3424227   | -0.09691001 | 0.70757018  | 0.3979400   | 0.4771213   | 0.4149733   | ...         |  0.0000000  | -0.2218487  | 0.34242268  | 0.5440680   |  0.14612804 |  0.34242268 | -0.22184875 |  0.04139269 | -0.04575749 | -0.52287875 | \n",
       "| jul05 | 0.4913617   | 0.5314789   | 0.6232493   | 0.41497335  | 0.5440680   |  0.32221929 | 0.50514998  | 0.3617278   | 0.6627578   | 0.7708520   | ...         |  0.5910646  |  0.1461280  | 0.23044892  | 0.2552725   |  0.11394335 |  0.07918125 |  0.14612804 |  0.32221929 |  0.07918125 |  0.04139269 | \n",
       "| jul06 | 0.4771213   | 0.1139434   | 0.5185139   | 0.07918125  | 0.5185139   |  0.43136376 | 0.07918125  | 0.5682017   | 0.2552725   | 0.3979400   | ...         | -0.3979400  | -1.0000000  | 0.27875360  | 0.4623980   | -0.22184875 |  0.17609126 |  0.39794001 |  0.07918125 | -0.04575749 | -0.15490196 | \n",
       "\n",
       "\n"
      ],
      "text/plain": [
       "      St. Johns Halifax   Sydney    Yarmouth   Charlottvl Fredericton\n",
       "jul01 0.3424227 0.5185139 0.2041200 0.23044892 0.5682017   0.46239800\n",
       "jul02 0.2787536 0.1139434 0.3010300 0.17609126 0.1461280   0.36172784\n",
       "jul03 0.5185139 0.3802112 0.4149733 0.17609126 0.5314789   0.59106461\n",
       "jul04 0.5051500 0.6232493 0.4771213 0.39794001 0.3424227  -0.09691001\n",
       "jul05 0.4913617 0.5314789 0.6232493 0.41497335 0.5440680   0.32221929\n",
       "jul06 0.4771213 0.1139434 0.5185139 0.07918125 0.5185139   0.43136376\n",
       "      Scheffervll Arvida    Bagottville Quebec    ... Vancouver  Victoria  \n",
       "jul01 0.32221929  0.6334685 0.6720979   0.6127839 ...  0.2041200  0.0000000\n",
       "jul02 0.34242268  0.3010300 0.3979400   0.3617278 ... -0.2218487 -0.3979400\n",
       "jul03 0.55630250  0.6720979 0.5314789   0.5440680 ...  0.4913617  0.3222193\n",
       "jul04 0.70757018  0.3979400 0.4771213   0.4149733 ...  0.0000000 -0.2218487\n",
       "jul05 0.50514998  0.3617278 0.6627578   0.7708520 ...  0.5910646  0.1461280\n",
       "jul06 0.07918125  0.5682017 0.2552725   0.3979400 ... -0.3979400 -1.0000000\n",
       "      Pr. George Pr. Rupert Whitehorse  Dawson      Yellowknife Iqaluit    \n",
       "jul01 0.04139269 0.6901961   0.20411998  0.04139269  0.32221929  0.17609126\n",
       "jul02 0.34242268 0.4913617   0.00000000 -0.09691001 -0.04575749 -0.04575749\n",
       "jul03 0.20411998 0.4471580   0.04139269  0.30103000  0.25527251  0.04139269\n",
       "jul04 0.34242268 0.5440680   0.14612804  0.34242268 -0.22184875  0.04139269\n",
       "jul05 0.23044892 0.2552725   0.11394335  0.07918125  0.14612804  0.32221929\n",
       "jul06 0.27875360 0.4623980  -0.22184875  0.17609126  0.39794001  0.07918125\n",
       "      Inuvik      Resolute   \n",
       "jul01  0.00000000 -0.04575749\n",
       "jul02  0.11394335 -0.15490196\n",
       "jul03 -0.39794001 -0.30103000\n",
       "jul04 -0.04575749 -0.52287875\n",
       "jul05  0.07918125  0.04139269\n",
       "jul06 -0.04575749 -0.15490196"
      ]
     },
     "metadata": {},
     "output_type": "display_data"
    },
    {
     "data": {
      "text/html": [
       "<ol class=list-inline>\n",
       "\t<li>365</li>\n",
       "\t<li>35</li>\n",
       "</ol>\n"
      ],
      "text/latex": [
       "\\begin{enumerate*}\n",
       "\\item 365\n",
       "\\item 35\n",
       "\\end{enumerate*}\n"
      ],
      "text/markdown": [
       "1. 365\n",
       "2. 35\n",
       "\n",
       "\n"
      ],
      "text/plain": [
       "[1] 365  35"
      ]
     },
     "metadata": {},
     "output_type": "display_data"
    }
   ],
   "source": [
    "# names(CanadianWeather$province)\n",
    "\n",
    "logprecav <- CanadianWeather$dailyAv[dayOfYearShifted, , \"log10precip\"]\n",
    "\n",
    "dim(CanadianWeather$dailyAv)\n",
    "dim(logprecav)\n",
    "\n",
    "head(logprecav)"
   ]
  },
  {
   "cell_type": "code",
   "execution_count": null,
   "metadata": {
    "collapsed": true
   },
   "outputs": [],
   "source": []
  },
  {
   "cell_type": "code",
   "execution_count": null,
   "metadata": {
    "collapsed": true
   },
   "outputs": [],
   "source": []
  },
  {
   "cell_type": "code",
   "execution_count": null,
   "metadata": {
    "collapsed": true
   },
   "outputs": [],
   "source": []
  },
  {
   "cell_type": "code",
   "execution_count": null,
   "metadata": {
    "collapsed": true
   },
   "outputs": [],
   "source": []
  },
  {
   "cell_type": "code",
   "execution_count": 22,
   "metadata": {
    "collapsed": true
   },
   "outputs": [],
   "source": [
    "# Multiple plot function\n",
    "#\n",
    "# ggplot objects can be passed in ..., or to plotlist (as a list of ggplot objects)\n",
    "# - cols:   Number of columns in layout\n",
    "# - layout: A matrix specifying the layout. If present, 'cols' is ignored.\n",
    "#\n",
    "# If the layout is something like matrix(c(1,2,3,3), nrow=2, byrow=TRUE),\n",
    "# then plot 1 will go in the upper left, 2 will go in the upper right, and\n",
    "# 3 will go all the way across the bottom.\n",
    "#\n",
    "multiplot <- function(..., plotlist=NULL, file, cols=1, layout=NULL) {\n",
    "  library(grid)\n",
    "\n",
    "  # Make a list from the ... arguments and plotlist\n",
    "  plots <- c(list(...), plotlist)\n",
    "\n",
    "  numPlots = length(plots)\n",
    "\n",
    "  # If layout is NULL, then use 'cols' to determine layout\n",
    "  if (is.null(layout)) {\n",
    "    # Make the panel\n",
    "    # ncol: Number of columns of plots\n",
    "    # nrow: Number of rows needed, calculated from # of cols\n",
    "    layout <- matrix(seq(1, cols * ceiling(numPlots/cols)),\n",
    "                    ncol = cols, nrow = ceiling(numPlots/cols))\n",
    "  }\n",
    "\n",
    " if (numPlots==1) {\n",
    "    print(plots[[1]])\n",
    "\n",
    "  } else {\n",
    "    # Set up the page\n",
    "    grid.newpage()\n",
    "    pushViewport(viewport(layout = grid.layout(nrow(layout), ncol(layout))))\n",
    "\n",
    "    # Make each plot, in the correct location\n",
    "    for (i in 1:numPlots) {\n",
    "      # Get the i,j matrix positions of the regions that contain this subplot\n",
    "      matchidx <- as.data.frame(which(layout == i, arr.ind = TRUE))\n",
    "\n",
    "      print(plots[[i]], vp = viewport(layout.pos.row = matchidx$row,\n",
    "                                      layout.pos.col = matchidx$col))\n",
    "    }\n",
    "  }\n",
    "}"
   ]
  }
 ],
 "metadata": {
  "kernelspec": {
   "display_name": "R 3.3",
   "language": "R",
   "name": "ir33"
  },
  "language_info": {
   "codemirror_mode": "r",
   "file_extension": ".r",
   "mimetype": "text/x-r-source",
   "name": "R",
   "pygments_lexer": "r",
   "version": "3.3.3"
  }
 },
 "nbformat": 4,
 "nbformat_minor": 2
}
