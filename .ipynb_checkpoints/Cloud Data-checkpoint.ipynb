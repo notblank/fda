{
 "cells": [
  {
   "cell_type": "code",
   "execution_count": 259,
   "metadata": {
    "collapsed": true
   },
   "outputs": [],
   "source": [
    "library(tidyverse)\n",
    "library(fda)"
   ]
  },
  {
   "cell_type": "code",
   "execution_count": 268,
   "metadata": {},
   "outputs": [
    {
     "name": "stderr",
     "output_type": "stream",
     "text": [
      "Parsed with column specification:\n",
      "cols(\n",
      "  `Time CMX1 CMY1 CMX2 CMY2 CMX3 CMY3` = col_character()\n",
      ")\n",
      "Parsed with column specification:\n",
      "cols(\n",
      "  `Time CMX1 CMY1 CMX2 CMY2 CMX3 CMY3` = col_character()\n",
      ")\n"
     ]
    }
   ],
   "source": [
    "cm_k01_s19 <- read_csv(\"C:/Users/Personal/functional data analysis/Datos/2D_Res 32_Dom-25-10/cm_nube_k01_s19.csv\")\n",
    "cm_k01_s59 <- read_csv(\"C:/Users/Personal/functional data analysis/Datos/2D_Res 32_Dom-25-10/cm_nube_k01_s59.csv\")"
   ]
  },
  {
   "cell_type": "code",
   "execution_count": 269,
   "metadata": {},
   "outputs": [
    {
     "ename": "ERROR",
     "evalue": "Error in mutate_impl(.data, dots): Column `Time` must be length 501 (the number of rows) or one, not 251\n",
     "output_type": "error",
     "traceback": [
      "Error in mutate_impl(.data, dots): Column `Time` must be length 501 (the number of rows) or one, not 251\nTraceback:\n",
      "1. cm_k01_s19 %>% mutate(Time = round(Time, 2))",
      "2. withVisible(eval(quote(`_fseq`(`_lhs`)), env, env))",
      "3. eval(quote(`_fseq`(`_lhs`)), env, env)",
      "4. eval(expr, envir, enclos)",
      "5. `_fseq`(`_lhs`)",
      "6. freduce(value, `_function_list`)",
      "7. withVisible(function_list[[k]](value))",
      "8. function_list[[k]](value)",
      "9. mutate(., Time = round(Time, 2))",
      "10. mutate.tbl_df(., Time = round(Time, 2))",
      "11. mutate_impl(.data, dots)"
     ]
    }
   ],
   "source": [
    "cm_k01_s19 <- cm_k01_s19 %>% mutate(Time = round(Time, 2))\n",
    "cm_k01_s59 <- cm_k01_s59 %>% mutate(Time = round(Time, 2))\n",
    "\n",
    "cm_k01 <- inner_join(cm_k01_s19, cm_k01_s59, by = 'Time', suffix = c('_sig16', '_sig56'))"
   ]
  },
  {
   "cell_type": "code",
   "execution_count": 263,
   "metadata": {
    "collapsed": true
   },
   "outputs": [],
   "source": [
    "# Padding matrix to avoid problems at the boundary\n",
    "paddMin <- -10\n",
    "paddSize <- 10/0.1 # sample at the same rate as on the data set\n",
    "\n",
    "paddingMat <- matrix(rep(as.matrix(cm_k01[1, ]) , each = paddSize), nrow = paddSize, ncol=dim(cm_k01)[2])\n",
    "padding <- data.frame(paddingMat) \n",
    "names(padding) <- names(cm_k01)\n",
    "padding <- padding %>% mutate(Time = seq(paddMin, -1, length.out = paddSize))\n",
    "\n",
    "cm_k01 <- rbind(padding, cm_k01)"
   ]
  },
  {
   "cell_type": "code",
   "execution_count": 264,
   "metadata": {
    "collapsed": true
   },
   "outputs": [],
   "source": [
    "# Use test data to learn the n_basis param. \n",
    "trainIndex <- seq(1, dim(cm_k01)[1], by = 2)\n",
    "ntrain <- length(trainIndex)\n",
    "\n",
    "cm_k01_train <- cm_k01 %>% slice(trainIndex)\n",
    "cm_k01_test <- cm_k01 %>% slice(-trainIndex)"
   ]
  },
  {
   "cell_type": "markdown",
   "metadata": {},
   "source": [
    "## Choosing a basis\n",
    "\n",
    "We'll use b-splines of order 6 since we are interested in the acceleration of the data. The basis will have ~6*2 basis elements. More elements could be used if we smooth using a penalty. \n",
    "\n",
    "There are some problems at the boundaries. It would be nice to have some extra time before the wave crashes into the cloud (will do this: in fact all the values are the same as at t=0 before the shock)."
   ]
  },
  {
   "cell_type": "code",
   "execution_count": 265,
   "metadata": {
    "collapsed": true
   },
   "outputs": [],
   "source": [
    "# basis \n",
    "basis13 <- create.bspline.basis(c(paddMin,40), 15, 6)"
   ]
  },
  {
   "cell_type": "code",
   "execution_count": 266,
   "metadata": {
    "collapsed": true
   },
   "outputs": [],
   "source": [
    "Time <- cm_k01_train$Time\n",
    "cmMatrix <- as.matrix(cm_k01_train %>% select(-Time))\n",
    "index <- seq(1, 12, by = 2)\n",
    "cmxMatrix <- cmMatrix[, index]\n",
    "cmyMatrix <- cmMatrix[, -index]"
   ]
  },
  {
   "cell_type": "code",
   "execution_count": 267,
   "metadata": {
    "collapsed": true
   },
   "outputs": [],
   "source": [
    "smoothCMx <- smooth.basis(argvals = Time, y = cmxMatrix, basis13)\n",
    "smoothCMy <- smooth.basis(argvals = Time, y = cmyMatrix, basis13)\n",
    "\n",
    "coefCMx <- smoothCMx$fd$coefs\n",
    "coefCMy <- smoothCMy$fd$coefs"
   ]
  },
  {
   "cell_type": "code",
   "execution_count": 217,
   "metadata": {
    "collapsed": true
   },
   "outputs": [],
   "source": [
    "# Evaluating the basis functions on the Time vector. \n",
    "basisMat13 <- eval.basis(evalarg = Time, basisobj = basis13)\n",
    "DbasisMat13 <- eval.basis(evalarg = Time, basisobj = basis13, Lfdobj = 2)\n",
    "\n",
    "# Prediction\n",
    "predCMx <- basisMat13 %*% coefCMx\n",
    "predCMy <- basisMat13 %*% coefCMy\n",
    "\n",
    "DDpredCMx <- DbasisMat13 %*% coefCMx\n",
    "DDpredCMy <- DbasisMat13 %*% coefCMy"
   ]
  },
  {
   "cell_type": "code",
   "execution_count": 249,
   "metadata": {
    "collapsed": true
   },
   "outputs": [],
   "source": [
    "paddMax <- 50\n",
    "NPindex <- (paddSize/2+1):(dim(cmxMatrix)[1])\n",
    "\n",
    "# CMx plots with acceleration\n",
    "Tracer <- rep(rep(c('cmx Cloud', 'cmx Core', 'cmx Envelope'), each=ntrain), times=2)\n",
    "DDTracer <- rep(rep(c('DD(cmx) Cloud', 'DD(cmx) Core', 'DD(cmx) Envelope'), each=ntrain), times=2)\n",
    "\n",
    "CMx_obs <- data.frame(cmxMatrix) %>% mutate(Time = Time) %>% \n",
    "                                        gather(CMx, x, -Time) %>% mutate(Tracer = Tracer)\n",
    "\n",
    "CMx_pred <- data.frame(predCMx) %>% mutate(Time = Time) %>% \n",
    "                                        gather(CMx, x, -Time) %>% mutate(Tracer = Tracer)\n",
    "\n",
    "DDCMx_pred <- data.frame(DDpredCMx) %>% mutate(Time = Time) %>% \n",
    "                                        gather(DDCMx, x, -Time) %>% mutate(Tracer = DDTracer)\n"
   ]
  },
  {
   "cell_type": "code",
   "execution_count": 234,
   "metadata": {},
   "outputs": [
    {
     "data": {},
     "metadata": {},
     "output_type": "display_data"
    },
    {
     "data": {
      "image/png": "[encoded data removed]",
      "text/plain": [
       "plot without title"
      ]
     },
     "metadata": {},
     "output_type": "display_data"
    }
   ],
   "source": [
    "# to plot one at a time: CMx_pred_plot <- CMx_pred %>% filter(Sim == 3)\n",
    "ggplot() + geom_line(data = CMx_pred, aes(Time, x, color=CMx), size=1) + \n",
    "            geom_line(data = DDCMx_pred, aes(Time, x, color=DDCMx), size=1) +\n",
    "            geom_hline(yintercept = 0, linetype=2) +\n",
    "            facet_wrap( ~ Tracer, scales=\"free_y\", ncol=3) +\n",
    "            ggtitle(\"x-Center of Mass Evolution\") +\n",
    "            theme(legend.position=\"bottom\")"
   ]
  },
  {
   "cell_type": "code",
   "execution_count": 183,
   "metadata": {
    "collapsed": true
   },
   "outputs": [],
   "source": [
    "paddMax <- 100\n",
    "NPindex <- (paddSize+1):(dim(cmxMatrix)[1] - paddMax)"
   ]
  },
  {
   "cell_type": "code",
   "execution_count": 188,
   "metadata": {
    "collapsed": true
   },
   "outputs": [],
   "source": [
    "# CMy plots with acceleration\n",
    "Tracer <- rep(rep(c('cmy Cloud', 'cmy Core', 'cmy Envelope'), each=401 - paddMax), times=2)\n",
    "DDTracer <- rep(rep(c('DD(cmy) Cloud', 'DD(cmy) Core', 'DD(cmy) Envelope'), each=401 - paddMax), times=2)\n",
    "\n",
    "CMy_obs <- data.frame(cmyMatrix[NPindex, ]) %>% mutate(Time = Time[NPindex]) %>% gather(CMy, y, -Time) %>% mutate(Tracer = Tracer)\n",
    "CMy_pred <- data.frame(predCMy[NPindex, ]) %>% mutate(Time = Time[NPindex]) %>% gather(CMy, y, -Time) %>% mutate(Tracer = Tracer)\n",
    "DDCMy_pred <- data.frame(DDpredCMy[NPindex, ]) %>% mutate(Time = Time[NPindex]) %>% gather(DDCMy, y, -Time) %>% mutate(Tracer = DDTracer)"
   ]
  },
  {
   "cell_type": "code",
   "execution_count": 185,
   "metadata": {},
   "outputs": [
    {
     "data": {},
     "metadata": {},
     "output_type": "display_data"
    },
    {
     "data": {
      "image/png": "[encoded data removed]",
      "text/plain": [
       "plot without title"
      ]
     },
     "metadata": {},
     "output_type": "display_data"
    }
   ],
   "source": [
    "t12 <- c('cmy Cloud', 'cmy Core', 'cmy Envelope', 'DD(cmy) Cloud', 'DD(cmy) Core', 'DD(cmy) Envelope')\n",
    "dfLimits <- data.frame(Time= rep(0,6), CMy = rep('CMY1_sig16',6), y = c(13, 13, 13, 0.08, 0.08, 0.08), Tracer = t12)\n",
    "\n",
    "#png(\"cmy.png\", width = 10, height = 7, units = 'in', res = 300)\n",
    "ggplot() +  geom_line(data = CMy_pred, aes(Time, y, color=CMy), size=1) + \n",
    "            geom_line(data = DDCMy_pred, aes(Time, y, color=DDCMy), size=1) +\n",
    "            geom_hline(yintercept = 0, linetype=2) + \n",
    "            geom_point(data = dfLimits, aes(Time, y, color=CMy), alpha=0) +\n",
    "            facet_wrap( ~ Tracer, scales=\"free_y\", ncol=3) +\n",
    "            ggtitle(\"y-Center of Mass Evolution and its Second Derivative\") +\n",
    "            theme(legend.position=\"bottom\")+\n",
    "            coord_fixed(ratio = 1)\n",
    "\n",
    "#dev.off()"
   ]
  },
  {
   "cell_type": "code",
   "execution_count": null,
   "metadata": {
    "collapsed": true
   },
   "outputs": [],
   "source": []
  },
  {
   "cell_type": "code",
   "execution_count": null,
   "metadata": {
    "collapsed": true
   },
   "outputs": [],
   "source": []
  },
  {
   "cell_type": "code",
   "execution_count": null,
   "metadata": {
    "collapsed": true
   },
   "outputs": [],
   "source": []
  },
  {
   "cell_type": "code",
   "execution_count": null,
   "metadata": {
    "collapsed": true
   },
   "outputs": [],
   "source": []
  },
  {
   "cell_type": "code",
   "execution_count": null,
   "metadata": {
    "collapsed": true
   },
   "outputs": [],
   "source": []
  },
  {
   "cell_type": "code",
   "execution_count": null,
   "metadata": {
    "collapsed": true
   },
   "outputs": [],
   "source": []
  },
  {
   "cell_type": "code",
   "execution_count": null,
   "metadata": {
    "collapsed": true
   },
   "outputs": [],
   "source": []
  },
  {
   "cell_type": "code",
   "execution_count": null,
   "metadata": {
    "collapsed": true
   },
   "outputs": [],
   "source": [
    "plotCurves <- function(CM1, CM2){\n",
    "    cm_k01_plot <- cm_k01 %>% select(Time, CM1, CM2) %>% gather(Sigma, CMX, -Time)\n",
    "    p <- ggplot(cm_k01_plot, aes(Time, CMX, color=Sigma)) + geom_line(size = 1)\n",
    "    return(p)\n",
    "}\n",
    "\n",
    "pY1 <- plotCurves(\"CMY1_sig16\", \"CMY1_sig56\")\n",
    "pY2 <- plotCurves(\"CMY2_sig16\", \"CMY2_sig56\")\n",
    "pY3 <- plotCurves(\"CMY3_sig16\", \"CMY3_sig56\")\n",
    "\n",
    "#multiplot(pY1, pY2, pY3, cols = 1)"
   ]
  },
  {
   "cell_type": "code",
   "execution_count": 8,
   "metadata": {
    "collapsed": true
   },
   "outputs": [],
   "source": [
    "# Multiple plot function\n",
    "#\n",
    "# ggplot objects can be passed in ..., or to plotlist (as a list of ggplot objects)\n",
    "# - cols:   Number of columns in layout\n",
    "# - layout: A matrix specifying the layout. If present, 'cols' is ignored.\n",
    "#\n",
    "# If the layout is something like matrix(c(1,2,3,3), nrow=2, byrow=TRUE),\n",
    "# then plot 1 will go in the upper left, 2 will go in the upper right, and\n",
    "# 3 will go all the way across the bottom.\n",
    "#\n",
    "multiplot <- function(..., plotlist=NULL, file, cols=1, layout=NULL) {\n",
    "  library(grid)\n",
    "\n",
    "  # Make a list from the ... arguments and plotlist\n",
    "  plots <- c(list(...), plotlist)\n",
    "\n",
    "  numPlots = length(plots)\n",
    "\n",
    "  # If layout is NULL, then use 'cols' to determine layout\n",
    "  if (is.null(layout)) {\n",
    "    # Make the panel\n",
    "    # ncol: Number of columns of plots\n",
    "    # nrow: Number of rows needed, calculated from # of cols\n",
    "    layout <- matrix(seq(1, cols * ceiling(numPlots/cols)),\n",
    "                    ncol = cols, nrow = ceiling(numPlots/cols))\n",
    "  }\n",
    "\n",
    " if (numPlots==1) {\n",
    "    print(plots[[1]])\n",
    "\n",
    "  } else {\n",
    "    # Set up the page\n",
    "    grid.newpage()\n",
    "    pushViewport(viewport(layout = grid.layout(nrow(layout), ncol(layout))))\n",
    "\n",
    "    # Make each plot, in the correct location\n",
    "    for (i in 1:numPlots) {\n",
    "      # Get the i,j matrix positions of the regions that contain this subplot\n",
    "      matchidx <- as.data.frame(which(layout == i, arr.ind = TRUE))\n",
    "\n",
    "      print(plots[[i]], vp = viewport(layout.pos.row = matchidx$row,\n",
    "                                      layout.pos.col = matchidx$col))\n",
    "    }\n",
    "  }\n",
    "}"
   ]
  }
 ],
 "metadata": {
  "kernelspec": {
   "display_name": "R 3.3",
   "language": "R",
   "name": "ir33"
  },
  "language_info": {
   "codemirror_mode": "r",
   "file_extension": ".r",
   "mimetype": "text/x-r-source",
   "name": "R",
   "pygments_lexer": "r",
   "version": "3.3.3"
  }
 },
 "nbformat": 4,
 "nbformat_minor": 2
}
